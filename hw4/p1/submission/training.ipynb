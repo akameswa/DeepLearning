{
  "cells": [
    {
      "cell_type": "markdown",
      "metadata": {
        "id": "PSLkT0qL3jgl"
      },
      "source": [
        "# **HW4P1: Language Modelling**\n",
        "\n",
        "Welcome to the final Part 1 HW of this course. This is the only part 1 in which you have PyTorch training (Yay!). You will be working on training language models and evaluating them on the task of prediction and generation.<br>"
      ]
    },
    {
      "cell_type": "markdown",
      "metadata": {
        "id": "0TbDdinS6buu"
      },
      "source": [
        "As you go, please read the code and keep an eye out for TODOs.\n",
        "\n",
        "Structure of this notebook:\n",
        "\n",
        "- **Imports and installs** - specify the correct data paths and mostly just run it.\n",
        "- **Datasets** - complete TODO and run it.\n",
        "- **Dataloader** - complete TODO and run it.\n",
        "- **Language model architecture** - implement and define your preferred model architecture based on the writeup.\n",
        "- **Dataloader, model, loss, optimizer, and scheduler definition** - define your dataloader, model, loss, optimizer, and scheduler.\n",
        "- **Trainer class** - unlike all the P2s, we are using a Trainer class for this HW, review the class and complete the train function.\n",
        "- **Wandb** - add a correct API key.\n",
        "- **Experiments** - just run your experiments and note the resulting NLL metric.\n",
        "- **Evaluation** - get access to OpenAI API to get the resulting perplexity metric.\n",
        "- **Submission** - create a handin for Autolab."
      ]
    },
    {
      "cell_type": "markdown",
      "metadata": {
        "cell_id": "95e48c7693e34a389da49dcb6e448e0c",
        "deepnote_cell_type": "markdown",
        "id": "EB2bOV3bzYLR"
      },
      "source": [
        "# **Imports and installs**"
      ]
    },
    {
      "cell_type": "code",
      "execution_count": 5,
      "metadata": {
        "cell_id": "b48a9e95f26c4d2e89d95b1b311cedd5",
        "deepnote_cell_type": "code",
        "deepnote_to_be_reexecuted": false,
        "execution": {
          "iopub.execute_input": "2022-08-10T14:02:09.992480Z",
          "iopub.status.busy": "2022-08-10T14:02:09.987693Z",
          "iopub.status.idle": "2022-08-10T14:02:12.872562Z",
          "shell.execute_reply": "2022-08-10T14:02:12.870819Z",
          "shell.execute_reply.started": "2022-08-10T14:02:09.991351Z"
        },
        "execution_millis": 2669,
        "execution_start": 1679856365830,
        "id": "oxiZ42B4SwQ-",
        "source_hash": "ec149d26",
        "tags": []
      },
      "outputs": [
        {
          "name": "stdout",
          "output_type": "stream",
          "text": [
            "Device:  cuda\n"
          ]
        }
      ],
      "source": [
        "%matplotlib inline\n",
        "\n",
        "import torch\n",
        "\n",
        "import os\n",
        "\n",
        "import time\n",
        "import numpy as np\n",
        "from matplotlib import pyplot as plt\n",
        "from tqdm import tqdm\n",
        "import torchsummaryX\n",
        "import gc\n",
        "import wandb\n",
        "import yaml\n",
        "import openai\n",
        "\n",
        "# Importing necessary modules from hw4\n",
        "# Update the path depending on how you choose to load the handout\n",
        "# from handout.hw4.tests_hw4 import get_prediction_nll, make_generation_text\n",
        "from tests_hw4 import get_prediction_nll, make_generation_text\n",
        "\n",
        "DEVICE = \"cuda\" if torch.cuda.is_available() else \"cpu\"\n",
        "print(\"Device: \", DEVICE)"
      ]
    },
    {
      "cell_type": "markdown",
      "metadata": {
        "cell_id": "a4ff875589ee46da8f749a7e5088a3ef",
        "deepnote_cell_type": "markdown",
        "id": "u-R794-0zc9V"
      },
      "source": [
        "# **Datasets**"
      ]
    },
    {
      "cell_type": "code",
      "execution_count": 6,
      "metadata": {
        "id": "HU4e_6l0Whda"
      },
      "outputs": [
        {
          "name": "stdout",
          "output_type": "stream",
          "text": [
            "Vocab length:  33280\n",
            "['!' '\"' '#' ... '～' '<sos>' '<eos>']\n"
          ]
        }
      ],
      "source": [
        "# Loading the vocabulary. Try printing and see\n",
        "VOCAB       = np.load('dataset/vocab.npy')\n",
        "\n",
        "# We have also included <sos> and <eos> in the vocabulary for you\n",
        "# However in real life, you include it explicitly if not provided\n",
        "SOS_TOKEN   = np.where(VOCAB == '<sos>')[0][0]\n",
        "EOS_TOKEN   = np.where(VOCAB == '<eos>')[0][0]\n",
        "NUM_WORDS   = len(VOCAB) - 2 # Actual number of words in vocabulary\n",
        "\n",
        "print(\"Vocab length: \", len(VOCAB))\n",
        "print(VOCAB)"
      ]
    },
    {
      "cell_type": "code",
      "execution_count": 7,
      "metadata": {
        "id": "LA7SapmyXHr7"
      },
      "outputs": [],
      "source": [
        "# Loding the training dataset. Refer to write up section 2 to understand the structure\n",
        "dataset     = np.load('dataset/wiki.train.npy', allow_pickle=True)\n",
        "\n",
        "# The dataset does not have <sos> and <eos> because they are just regular articles.\n",
        "# TODO: Add <sos> and <eos> to every article in the dataset.\n",
        "# Before doing so, try printing the dataset to see if they are words or integers.\n",
        "for i in range(len(dataset)):\n",
        "    dataset[i] = np.insert(dataset[i], 0, SOS_TOKEN)\n",
        "    dataset[i] = np.insert(dataset[i], len(dataset[i]), EOS_TOKEN)"
      ]
    },
    {
      "cell_type": "code",
      "execution_count": 8,
      "metadata": {
        "cell_id": "09f3a2efaeef49ef9f4c0b2b9a614cca",
        "deepnote_cell_type": "code",
        "deepnote_to_be_reexecuted": false,
        "execution": {
          "iopub.execute_input": "2022-08-10T14:02:12.888156Z",
          "iopub.status.busy": "2022-08-10T14:02:12.884281Z",
          "iopub.status.idle": "2022-08-10T14:02:12.960590Z",
          "shell.execute_reply": "2022-08-10T14:02:12.958805Z",
          "shell.execute_reply.started": "2022-08-10T14:02:12.888058Z"
        },
        "execution_millis": 46,
        "execution_start": 1679856368507,
        "id": "x5znxQhLSwRC",
        "source_hash": "42e4c03c",
        "tags": []
      },
      "outputs": [
        {
          "name": "stdout",
          "output_type": "stream",
          "text": [
            "Validation shapes    :  (128, 21) (128,)\n",
            "Test shapes          :  (128, 21)\n"
          ]
        }
      ],
      "source": [
        "# Loading the fixtures for validation and test - prediction\n",
        "fixtures_pred       = np.load('fixtures/prediction.npz')        # validation\n",
        "fixtures_pred_test  = np.load('fixtures/prediction_test.npz')   # test\n",
        "\n",
        "print(\"Validation shapes    : \", fixtures_pred['inp'].shape, fixtures_pred['out'].shape)\n",
        "print(\"Test shapes          : \", fixtures_pred_test['inp'].shape)"
      ]
    },
    {
      "cell_type": "code",
      "execution_count": 9,
      "metadata": {
        "id": "Pes7mCr5WdAw"
      },
      "outputs": [
        {
          "name": "stdout",
          "output_type": "stream",
          "text": [
            "Test Gen Shapes          : (128, 31)\n"
          ]
        }
      ],
      "source": [
        "# Loading the test fixtures for generation\n",
        "fixtures_gen_test   = np.load('fixtures/generation_test.npy')   # test\n",
        "\n",
        "print(\"Test Gen Shapes          :\", fixtures_gen_test.shape)"
      ]
    },
    {
      "cell_type": "code",
      "execution_count": 10,
      "metadata": {
        "id": "jO_Qt7O6rL8L"
      },
      "outputs": [],
      "source": [
        "# Example Prediction Dev Input and Output\n",
        "# Optional TODO: You can try printing a few samples from the validation set which has both inputs and outputs"
      ]
    },
    {
      "cell_type": "markdown",
      "metadata": {
        "cell_id": "aec0165a3f1245dfa52a0cb80dba2578",
        "deepnote_cell_type": "markdown",
        "id": "dHjYhXAOzkrP"
      },
      "source": [
        "# **Dataloader**"
      ]
    },
    {
      "cell_type": "code",
      "execution_count": 11,
      "metadata": {
        "cell_id": "b2e63a7f6dec4a3f98588725a72a8ff2",
        "deepnote_cell_type": "code",
        "deepnote_to_be_reexecuted": false,
        "execution": {
          "iopub.execute_input": "2022-08-10T14:02:13.079390Z",
          "iopub.status.busy": "2022-08-10T14:02:13.078847Z",
          "iopub.status.idle": "2022-08-10T14:02:13.196189Z",
          "shell.execute_reply": "2022-08-10T14:02:13.192167Z",
          "shell.execute_reply.started": "2022-08-10T14:02:13.079324Z"
        },
        "execution_millis": 48,
        "execution_start": 1679856368575,
        "id": "OZNrJ8XvSwRF",
        "source_hash": "a81eaa14",
        "tags": []
      },
      "outputs": [],
      "source": [
        "class DataLoaderForLanguageModeling(torch.utils.data.DataLoader): # Inherit from torch.utils.data.DataLoader\n",
        "    \"\"\"\n",
        "        TODO: Define data loader logic here\n",
        "    \"\"\"\n",
        "    # TODO: You can probably add more parameters as well. Eg. sequence length\n",
        "    def __init__(self, dataset, batch_size, shuffle= True, drop_last= False, sequence_length=20):\n",
        "\n",
        "        # If you remember, these are the standard things which you give while defining a dataloader.\n",
        "        # Now you are just customizing your dataloader\n",
        "        self.dataset    = dataset\n",
        "        self.batch_size = batch_size\n",
        "        self.shuffle    = shuffle\n",
        "        self.drop_last  = drop_last\n",
        "        self.sequence_length = sequence_length\n",
        "\n",
        "\n",
        "    def __len__(self):\n",
        "        # What output do you get when you print len(loader)? You get the number of batches\n",
        "        # Your dataset has (579, ) articles and each article has a specified amount of words.\n",
        "        # You concatenate the dataset and then batch parts of it according to the sequence length\n",
        "\n",
        "        # TODO: return the number of batches\n",
        "        # If you are using variable sequence_length, the length might not be fixed\n",
        "        \n",
        "        length = 0\n",
        "        for article in self.dataset:\n",
        "            length += len(article) // self.sequence_length\n",
        "        return length // self.batch_size\n",
        "\n",
        "    def __iter__(self):\n",
        "        # TODO: Shuffle data if shuffle is True\n",
        "        if self.shuffle:\n",
        "            # TODO\n",
        "            np.random.shuffle(self.dataset)\n",
        "\n",
        "        # TODO: Set number of batches\n",
        "        num_batches = self.__len__()\n",
        "\n",
        "        # TODO: Concatenate articles and then drop extra words that won't fit into a full batch\n",
        "        articles = np.concatenate(self.dataset)\n",
        "        extra_words = len(articles) % (self.batch_size * self.sequence_length)\n",
        "        if extra_words:\n",
        "            articles = articles[:-extra_words]\n",
        "\n",
        "        # TODO: Think about how you could handle drop_last\n",
        "        if self.drop_last:\n",
        "            articles = articles[:num_batches * self.batch_size * self.sequence_length]\n",
        "        else:\n",
        "            # Hint: Pad the last target sequence with EOS_TOKEN to ensure it has the same length as the other target sequences\n",
        "            last_target = articles[-self.sequence_length:]\n",
        "            last_target = np.append(last_target, [EOS_TOKEN] * (self.sequence_length - len(last_target)))\n",
        "            articles = np.append(articles, last_target)\n",
        "\n",
        "        # TODO: Divide the concetenated dataset into inputs and targets. How do they vary?\n",
        "        inputs = articles[:-1]\n",
        "        targets = articles[1:]\n",
        "\n",
        "        # TODO: Reshape the inputs and targets into batches (think about the final shape)\n",
        "        # TODO: Loop though the batches and yield the input and target batch according to the sequence length\n",
        "        batch_idx = 0\n",
        "        while batch_idx < num_batches:\n",
        "            input_batch = inputs[batch_idx * self.sequence_length * self.batch_size : (batch_idx + 1) * self.sequence_length * self.batch_size].reshape(self.batch_size, self.sequence_length)\n",
        "            target_batch = targets[batch_idx * self.sequence_length * self.batch_size : (batch_idx + 1) * self.sequence_length * self.batch_size].reshape(self.batch_size, self.sequence_length)\n",
        "\n",
        "            yield torch.tensor(input_batch).to(DEVICE), torch.tensor(target_batch).to(DEVICE)\n",
        "            batch_idx += 1"
      ]
    },
    {
      "cell_type": "code",
      "execution_count": 12,
      "metadata": {
        "cell_id": "773573c8374048d4bcb5a67b905ee2e0",
        "deepnote_cell_type": "code",
        "deepnote_to_be_reexecuted": false,
        "execution_millis": 3,
        "execution_start": 1679856368714,
        "id": "fBZSzmy10M9M",
        "source_hash": "27952b8c"
      },
      "outputs": [
        {
          "name": "stdout",
          "output_type": "stream",
          "text": [
            "torch.Size([32, 25]) torch.Size([32, 25])\n",
            "x:  ['<sos>', '=', 'Michelle', 'Rzepecki', '=', '<eol>', 'Michelle', 'Rzepecki', '(', 'born', '6', 'November', '1986', ')', 'is', 'an', 'Australian', 'goalball', 'player', 'classified', 'as', 'a', '<unk>', 'competitor', '.']\n",
            "y:  ['=', 'Michelle', 'Rzepecki', '=', '<eol>', 'Michelle', 'Rzepecki', '(', 'born', '6', 'November', '1986', ')', 'is', 'an', 'Australian', 'goalball', 'player', 'classified', 'as', 'a', '<unk>', 'competitor', '.', 'She']\n"
          ]
        }
      ],
      "source": [
        "# Some sanity checks\n",
        "\n",
        "dl = DataLoaderForLanguageModeling(\n",
        "    dataset     = dataset,\n",
        "    batch_size  = 32,\n",
        "    shuffle     = True,\n",
        "    drop_last   = True,\n",
        "    sequence_length = 25,\n",
        "    # Input Extra parameters here if needed\n",
        ")\n",
        "\n",
        "inputs, targets = next(iter(dl))\n",
        "print(inputs.shape, targets.shape)\n",
        "\n",
        "for x, y in dl:\n",
        "    print(\"x: \", [VOCAB[i] for i in x[0, :]])\n",
        "    print(\"y: \", [VOCAB[i] for i in y[0, :]])\n",
        "    break"
      ]
    },
    {
      "cell_type": "markdown",
      "metadata": {
        "cell_id": "0e75c3c3318d481aa99230d81eb68c13",
        "deepnote_cell_type": "markdown",
        "id": "WcWU0YlnzmVM"
      },
      "source": [
        "# **Language model architecture**"
      ]
    },
    {
      "cell_type": "markdown",
      "metadata": {
        "id": "_7wwkDXlV3xf"
      },
      "source": [
        "Recurrent network, one-directional or bidirectional, captures certain patterns within a sequence, and can store them into state vector or pass into output. As with convolutional networks, we can build another recurrent layer on top of the first one to capture higher level patterns, build from low-level patterns extracted by the first layer. This leads us to the notion of multi-layer RNN, which consists of two or more recurrent networks, where output of the previous layer is passed to the next layer as input.\n",
        "\n",
        "**Link to PyTorch Documentation**: [LSTM Cell](https://pytorch.org/docs/stable/generated/torch.nn.LSTMCell.html)\n",
        "\n",
        "The following image can be a helpful aid in visualizing the flow of information in a multi-layer RNN with LSTM Cells.\n",
        "\n",
        "<img src=\"https://raw.githubusercontent.com/microsoft/AI-For-Beginners/32043fd2c98de6bbcae857058ac38aaa8140b142/lessons/5-NLP/16-RNN/images/multi-layer-lstm.jpg\">\n",
        "\n",
        "\n"
      ]
    },
    {
      "cell_type": "code",
      "execution_count": 13,
      "metadata": {},
      "outputs": [],
      "source": [
        "class LockedDropout(torch.nn.Module):\n",
        "    def __init__(self, p=0.2):\n",
        "        # https://pytorchnlp.readthedocs.io/en/latest/_modules/torchnlp/nn/lock_dropout.html\n",
        "        super().__init__()\n",
        "        self.p = p\n",
        "\n",
        "    def forward(self, x):\n",
        "        if not self.training or not self.p:\n",
        "            return x\n",
        "        mask = x.new_empty(x.shape).bernoulli_(1 - self.p).div_(1 - self.p)\n",
        "        x = x * mask.expand_as(x)\n",
        "        return x"
      ]
    },
    {
      "cell_type": "code",
      "execution_count": 15,
      "metadata": {
        "id": "cebwoorWttWe"
      },
      "outputs": [],
      "source": [
        "# Here comes the main portion of this HW.\n",
        "# You can do this with a regular LSTM similar to HW3P2.\n",
        "# However, using LSTMCells presents an opportunity to learn something different\n",
        "\n",
        "class LanguageModel(torch.nn.Module):\n",
        "\n",
        "    def __init__(self, vocab_size): # TODO: Add more parameters as needed\n",
        "        super().__init__()\n",
        "\n",
        "        # For all the layers which you will define, please read the documentation thoroughly before implementation\n",
        "        # TODO: Define a PyTorch embedding layer\n",
        "        self.token_embedding    = torch.nn.Embedding(vocab_size, 256)\n",
        "\n",
        "        self.lstm_cells         = torch.nn.Sequential(\n",
        "            # TODO: Enter the parameters for the LSTMCells\n",
        "            torch.nn.LSTMCell(256, 256),\n",
        "            torch.nn.LSTMCell(256, 256),\n",
        "            torch.nn.LSTMCell(256, 256),\n",
        "            # You can add multiple LSTMCells and experiment with the shape of the network too if you want:\n",
        "        )\n",
        "\n",
        "        # (Optional) TODO: You can try weight initialization and see if they help\n",
        "        \n",
        "        # TODO: Define the parameters\n",
        "        self.token_probability  = torch.nn.Sequential(\n",
        "            torch.nn.Linear(256, vocab_size),\n",
        "        )\n",
        "\n",
        "        # (Optional) TODO: Weight Tying. You just need to make the embedding layer weights equal to the Linear layer weight.\n",
        "        self.token_probability.weight = self.token_embedding.weight\n",
        "\n",
        "        # So the basic pipline is:\n",
        "        # word -> embedding -> lstm -> projection (linear) to get  probability distribution\n",
        "        # And this is happening across all time steps\n",
        "\n",
        "    def rnn_step(self, embedding, hidden_states_list):\n",
        "        next_hidden_states_list = []\n",
        "        token_embedding = embedding\n",
        "        \n",
        "        # TODO: Forward pass through each LSTMCell\n",
        "        for lstm_cell, hidden_state in zip(self.lstm_cells, hidden_states_list):\n",
        "            hidden_state = lstm_cell(token_embedding, hidden_state)\n",
        "            next_hidden_states_list.append(hidden_state)\n",
        "            token_embedding = LockedDropout()(hidden_state[0])\n",
        "\n",
        "        return token_embedding, next_hidden_states_list\n",
        "\n",
        "    def predict(self, x):\n",
        "        # Refer to Section 1.2.6 to understand this function\n",
        "        if not torch.is_tensor(x):\n",
        "            x = torch.tensor(x).long().to(DEVICE)\n",
        "\n",
        "        with torch.inference_mode():\n",
        "            # TODO: Pass the input sequence through the model\n",
        "            # and return the probability distribution of the last timestep\n",
        "            token_prob_dist, _ = self.forward(x)\n",
        "            \n",
        "        return token_prob_dist[:, -1, :]\n",
        "\n",
        "    def generate(self, x, timesteps):\n",
        "        # Refer to section 1.2.4 to understand this function\n",
        "        # Important Note: We do not draw <eos> from the distribution unlike the writeup\n",
        "\n",
        "        timesteps -= 1\n",
        "        if not torch.is_tensor(x):\n",
        "            x = torch.tensor(x).long().to(DEVICE)\n",
        "\n",
        "        # TODO: Pass the input sequence through the model\n",
        "        # Obtain the probability distribution and hidden_states_list of the last timestep\n",
        "        token_prob_dist, hidden_states_list     = self.forward(x)\n",
        "\n",
        "        # TODO: Draw the next predicted token from the probability distribution ()\n",
        "        next_token                              = token_prob_dist[:, -1, :-1].argmax(axis=-1, keepdims=True)\n",
        "\n",
        "        # What would generated_sequence be initialized with?\n",
        "        generated_sequence  = [next_token]\n",
        "        with torch.inference_mode():\n",
        "            for t in range(timesteps): # Loop through the timesteps\n",
        "\n",
        "                # TODO: Pass the next_token and hidden_states_list through the model\n",
        "                token_prob_dist, hidden_states_list = self.forward(next_token, hidden_states_list)\n",
        "                # TODO: You will get 2 outputs. What is the shape of the probability distribution?\n",
        "                \n",
        "                # TODO: Get the most probable token for the next timestep\n",
        "                next_token = token_prob_dist[:, -1, :-1].argmax(axis=-1, keepdims=True)\n",
        "                generated_sequence.append(next_token)\n",
        "\n",
        "            generated_sequence = torch.stack(generated_sequence, dim= 1) # keep last timesteps generated words\n",
        "        return generated_sequence.squeeze(-1)\n",
        "\n",
        "    # We are also having a hidden_states_list parameter because you need that in generation\n",
        "    def forward(self, x, hidden_states_list= None): # train model\n",
        "        # x (Batch, Seq_len)\n",
        "        # Note: you dont have to return the sum of log probabilities according to Pseudocode 1 in the writeup\n",
        "        # However, feel free to calculate and print it if you are curious\n",
        "        x = x.long()\n",
        "\n",
        "        batch_size, timesteps   = x.shape\n",
        "\n",
        "        token_prob_distribution = [] # list which will contain probability distributions for all timesteps\n",
        "\n",
        "        # Initializing the hidden hidden_states_list\n",
        "        # Are the elements of the hidden_states_list individual variables or lists of variables themselves?\n",
        "        # Hint: Refer the PyTorch documentation for the answer\n",
        "        hidden_states_list      = [None]*len(self.lstm_cells) if hidden_states_list == None else hidden_states_list\n",
        "\n",
        "        token_embeddings        = self.token_embedding(x) \n",
        "        # token_embeddings        = embedded_dropout(self.token_embedding, x, dropout=0.3)\n",
        "        # When you get the embeddings of the input x, remember that you get it for all time steps.\n",
        "        # Embedding is just a linear transformation so you can precompute it for all time steps.\n",
        "\n",
        "        for t in range(timesteps): # LSTMCell is for just 1 timestep. Hence you need to loop through the total timesteps\n",
        "\n",
        "            token_embedding_t   = token_embeddings[:, t, :]\n",
        "\n",
        "            # TODO (What should you do with the hidden_states_list?)\n",
        "            rnn_out, hidden_states_list = self.rnn_step(token_embedding_t, hidden_states_list)\n",
        "\n",
        "            # Map the RNN output to the vocabulary’s dimension and store it in token_prob_dist_t,\n",
        "            # the token probability distribution at time t.\n",
        "            token_prob_dist_t   = self.token_probability(rnn_out)\n",
        "\n",
        "            # Append token_prob_dist_t to a list of token probability distributions.\n",
        "            token_prob_distribution.append(token_prob_dist_t)\n",
        "\n",
        "        # TODO: Stack along the timesteps dimension\n",
        "        token_prob_distribution = torch.stack(token_prob_distribution, dim= 1).reshape(batch_size, timesteps, -1)\n",
        "\n",
        "        return token_prob_distribution, hidden_states_list"
      ]
    },
    {
      "cell_type": "markdown",
      "metadata": {
        "id": "DelhoytAQWQa"
      },
      "source": [
        "# **Dataloader, model, loss, optimizer, and scheduler definition**"
      ]
    },
    {
      "cell_type": "code",
      "execution_count": 16,
      "metadata": {
        "id": "jW-YAD9b7FoC"
      },
      "outputs": [],
      "source": [
        "# TODO: Define other hyperparameters\n",
        "\n",
        "config = dict(\n",
        "    batch_size  = 256,\n",
        "    num_epochs  = 30, # 10 to 20 epochs should be enough given the model is good\n",
        "    init_lr     = 2e-3 # TODO\n",
        ")"
      ]
    },
    {
      "cell_type": "code",
      "execution_count": 17,
      "metadata": {
        "cell_id": "4aaccf1c32fa480a9a15e8bb8bc4d9e4",
        "deepnote_cell_type": "code",
        "deepnote_to_be_reexecuted": true,
        "execution": {
          "iopub.execute_input": "2022-08-10T14:02:14.110787Z",
          "iopub.status.busy": "2022-08-10T14:02:14.109778Z",
          "iopub.status.idle": "2022-08-10T14:02:14.929087Z",
          "shell.execute_reply": "2022-08-10T14:02:14.925078Z",
          "shell.execute_reply.started": "2022-08-10T14:02:14.110707Z"
        },
        "id": "DbHH6zXTSwRa",
        "source_hash": "2acff566",
        "tags": []
      },
      "outputs": [
        {
          "name": "stdout",
          "output_type": "stream",
          "text": [
            "LanguageModel(\n",
            "  (token_embedding): Embedding(33280, 256)\n",
            "  (lstm_cells): Sequential(\n",
            "    (0): LSTMCell(256, 256)\n",
            "    (1): LSTMCell(256, 256)\n",
            "    (2): LSTMCell(256, 256)\n",
            "  )\n",
            "  (token_probability): Sequential(\n",
            "    (0): Linear(in_features=256, out_features=33280, bias=True)\n",
            "  )\n",
            ")\n"
          ]
        },
        {
          "name": "stderr",
          "output_type": "stream",
          "text": [
            "<ipython-input-17-ca614b49220a>:35: UserWarning: To copy construct from a tensor, it is recommended to use sourceTensor.clone().detach() or sourceTensor.clone().detach().requires_grad_(True), rather than torch.tensor(sourceTensor).\n",
            "  summary = torchsummaryX.summary(model.to(DEVICE), x = torch.tensor(inputs).to(DEVICE))\n"
          ]
        },
        {
          "name": "stdout",
          "output_type": "stream",
          "text": [
            "----------------------------------------------------------------------------------------------------\n",
            "Layer                   Kernel Shape         Output Shape         # Params (K)      # Mult-Adds (M)\n",
            "====================================================================================================\n",
            "0_Embedding             [256, 33280]        [32, 25, 256]             8,519.68                 8.52\n",
            "1_LSTMCell                         -            [32, 256]               526.34                 0.52\n",
            "  weight_ih              [1024, 256]\n",
            "  weight_hh              [1024, 256]\n",
            "2_LSTMCell                         -            [32, 256]               526.34                 0.52\n",
            "  weight_ih              [1024, 256]\n",
            "  weight_hh              [1024, 256]\n",
            "3_LSTMCell                         -            [32, 256]               526.34                 0.52\n",
            "  weight_ih              [1024, 256]\n",
            "  weight_hh              [1024, 256]\n",
            "4_Linear                [256, 33280]          [32, 33280]             8,552.96                 8.52\n",
            "5_LSTMCell                         -            [32, 256]          (recursive)                 0.52\n",
            "  weight_ih              [1024, 256]\n",
            "  weight_hh              [1024, 256]\n",
            "6_LSTMCell                         -            [32, 256]          (recursive)                 0.52\n",
            "  weight_ih              [1024, 256]\n",
            "  weight_hh              [1024, 256]\n",
            "7_LSTMCell                         -            [32, 256]          (recursive)                 0.52\n",
            "  weight_ih              [1024, 256]\n",
            "  weight_hh              [1024, 256]\n",
            "8_Linear                [256, 33280]          [32, 33280]          (recursive)                 8.52\n",
            "9_LSTMCell                         -            [32, 256]          (recursive)                 0.52\n",
            "  weight_ih              [1024, 256]\n",
            "  weight_hh              [1024, 256]\n",
            "10_LSTMCell                        -            [32, 256]          (recursive)                 0.52\n",
            "  weight_ih              [1024, 256]\n",
            "  weight_hh              [1024, 256]\n",
            "11_LSTMCell                        -            [32, 256]          (recursive)                 0.52\n",
            "  weight_ih              [1024, 256]\n",
            "  weight_hh              [1024, 256]\n",
            "12_Linear               [256, 33280]          [32, 33280]          (recursive)                 8.52\n",
            "13_LSTMCell                        -            [32, 256]          (recursive)                 0.52\n",
            "  weight_ih              [1024, 256]\n",
            "  weight_hh              [1024, 256]\n",
            "14_LSTMCell                        -            [32, 256]          (recursive)                 0.52\n",
            "  weight_ih              [1024, 256]\n",
            "  weight_hh              [1024, 256]\n",
            "15_LSTMCell                        -            [32, 256]          (recursive)                 0.52\n",
            "  weight_ih              [1024, 256]\n",
            "  weight_hh              [1024, 256]\n",
            "16_Linear               [256, 33280]          [32, 33280]          (recursive)                 8.52\n",
            "17_LSTMCell                        -            [32, 256]          (recursive)                 0.52\n",
            "  weight_ih              [1024, 256]\n",
            "  weight_hh              [1024, 256]\n",
            "18_LSTMCell                        -            [32, 256]          (recursive)                 0.52\n",
            "  weight_ih              [1024, 256]\n",
            "  weight_hh              [1024, 256]\n",
            "19_LSTMCell                        -            [32, 256]          (recursive)                 0.52\n",
            "  weight_ih              [1024, 256]\n",
            "  weight_hh              [1024, 256]\n",
            "20_Linear               [256, 33280]          [32, 33280]          (recursive)                 8.52\n",
            "21_LSTMCell                        -            [32, 256]          (recursive)                 0.52\n",
            "  weight_ih              [1024, 256]\n",
            "  weight_hh              [1024, 256]\n",
            "22_LSTMCell                        -            [32, 256]          (recursive)                 0.52\n",
            "  weight_ih              [1024, 256]\n",
            "  weight_hh              [1024, 256]\n",
            "23_LSTMCell                        -            [32, 256]          (recursive)                 0.52\n",
            "  weight_ih              [1024, 256]\n",
            "  weight_hh              [1024, 256]\n",
            "24_Linear               [256, 33280]          [32, 33280]          (recursive)                 8.52\n",
            "25_LSTMCell                        -            [32, 256]          (recursive)                 0.52\n",
            "  weight_ih              [1024, 256]\n",
            "  weight_hh              [1024, 256]\n",
            "26_LSTMCell                        -            [32, 256]          (recursive)                 0.52\n",
            "  weight_ih              [1024, 256]\n",
            "  weight_hh              [1024, 256]\n",
            "27_LSTMCell                        -            [32, 256]          (recursive)                 0.52\n",
            "  weight_ih              [1024, 256]\n",
            "  weight_hh              [1024, 256]\n",
            "28_Linear               [256, 33280]          [32, 33280]          (recursive)                 8.52\n",
            "29_LSTMCell                        -            [32, 256]          (recursive)                 0.52\n",
            "  weight_ih              [1024, 256]\n",
            "  weight_hh              [1024, 256]\n",
            "30_LSTMCell                        -            [32, 256]          (recursive)                 0.52\n",
            "  weight_ih              [1024, 256]\n",
            "  weight_hh              [1024, 256]\n",
            "31_LSTMCell                        -            [32, 256]          (recursive)                 0.52\n",
            "  weight_ih              [1024, 256]\n",
            "  weight_hh              [1024, 256]\n",
            "32_Linear               [256, 33280]          [32, 33280]          (recursive)                 8.52\n",
            "33_LSTMCell                        -            [32, 256]          (recursive)                 0.52\n",
            "  weight_ih              [1024, 256]\n",
            "  weight_hh              [1024, 256]\n",
            "34_LSTMCell                        -            [32, 256]          (recursive)                 0.52\n",
            "  weight_ih              [1024, 256]\n",
            "  weight_hh              [1024, 256]\n",
            "35_LSTMCell                        -            [32, 256]          (recursive)                 0.52\n",
            "  weight_ih              [1024, 256]\n",
            "  weight_hh              [1024, 256]\n",
            "36_Linear               [256, 33280]          [32, 33280]          (recursive)                 8.52\n",
            "37_LSTMCell                        -            [32, 256]          (recursive)                 0.52\n",
            "  weight_ih              [1024, 256]\n",
            "  weight_hh              [1024, 256]\n",
            "38_LSTMCell                        -            [32, 256]          (recursive)                 0.52\n",
            "  weight_ih              [1024, 256]\n",
            "  weight_hh              [1024, 256]\n",
            "39_LSTMCell                        -            [32, 256]          (recursive)                 0.52\n",
            "  weight_ih              [1024, 256]\n",
            "  weight_hh              [1024, 256]\n",
            "40_Linear               [256, 33280]          [32, 33280]          (recursive)                 8.52\n",
            "41_LSTMCell                        -            [32, 256]          (recursive)                 0.52\n",
            "  weight_ih              [1024, 256]\n",
            "  weight_hh              [1024, 256]\n",
            "42_LSTMCell                        -            [32, 256]          (recursive)                 0.52\n",
            "  weight_ih              [1024, 256]\n",
            "  weight_hh              [1024, 256]\n",
            "43_LSTMCell                        -            [32, 256]          (recursive)                 0.52\n",
            "  weight_ih              [1024, 256]\n",
            "  weight_hh              [1024, 256]\n",
            "44_Linear               [256, 33280]          [32, 33280]          (recursive)                 8.52\n",
            "45_LSTMCell                        -            [32, 256]          (recursive)                 0.52\n",
            "  weight_ih              [1024, 256]\n",
            "  weight_hh              [1024, 256]\n",
            "46_LSTMCell                        -            [32, 256]          (recursive)                 0.52\n",
            "  weight_ih              [1024, 256]\n",
            "  weight_hh              [1024, 256]\n",
            "47_LSTMCell                        -            [32, 256]          (recursive)                 0.52\n",
            "  weight_ih              [1024, 256]\n",
            "  weight_hh              [1024, 256]\n",
            "48_Linear               [256, 33280]          [32, 33280]          (recursive)                 8.52\n",
            "49_LSTMCell                        -            [32, 256]          (recursive)                 0.52\n",
            "  weight_ih              [1024, 256]\n",
            "  weight_hh              [1024, 256]\n",
            "50_LSTMCell                        -            [32, 256]          (recursive)                 0.52\n",
            "  weight_ih              [1024, 256]\n",
            "  weight_hh              [1024, 256]\n",
            "51_LSTMCell                        -            [32, 256]          (recursive)                 0.52\n",
            "  weight_ih              [1024, 256]\n",
            "  weight_hh              [1024, 256]\n",
            "52_Linear               [256, 33280]          [32, 33280]          (recursive)                 8.52\n",
            "53_LSTMCell                        -            [32, 256]          (recursive)                 0.52\n",
            "  weight_ih              [1024, 256]\n",
            "  weight_hh              [1024, 256]\n",
            "54_LSTMCell                        -            [32, 256]          (recursive)                 0.52\n",
            "  weight_ih              [1024, 256]\n",
            "  weight_hh              [1024, 256]\n",
            "55_LSTMCell                        -            [32, 256]          (recursive)                 0.52\n",
            "  weight_ih              [1024, 256]\n",
            "  weight_hh              [1024, 256]\n",
            "56_Linear               [256, 33280]          [32, 33280]          (recursive)                 8.52\n",
            "57_LSTMCell                        -            [32, 256]          (recursive)                 0.52\n",
            "  weight_ih              [1024, 256]\n",
            "  weight_hh              [1024, 256]\n",
            "58_LSTMCell                        -            [32, 256]          (recursive)                 0.52\n",
            "  weight_ih              [1024, 256]\n",
            "  weight_hh              [1024, 256]\n",
            "59_LSTMCell                        -            [32, 256]          (recursive)                 0.52\n",
            "  weight_ih              [1024, 256]\n",
            "  weight_hh              [1024, 256]\n",
            "60_Linear               [256, 33280]          [32, 33280]          (recursive)                 8.52\n",
            "61_LSTMCell                        -            [32, 256]          (recursive)                 0.52\n",
            "  weight_ih              [1024, 256]\n",
            "  weight_hh              [1024, 256]\n",
            "62_LSTMCell                        -            [32, 256]          (recursive)                 0.52\n",
            "  weight_ih              [1024, 256]\n",
            "  weight_hh              [1024, 256]\n",
            "63_LSTMCell                        -            [32, 256]          (recursive)                 0.52\n",
            "  weight_ih              [1024, 256]\n",
            "  weight_hh              [1024, 256]\n",
            "64_Linear               [256, 33280]          [32, 33280]          (recursive)                 8.52\n",
            "65_LSTMCell                        -            [32, 256]          (recursive)                 0.52\n",
            "  weight_ih              [1024, 256]\n",
            "  weight_hh              [1024, 256]\n",
            "66_LSTMCell                        -            [32, 256]          (recursive)                 0.52\n",
            "  weight_ih              [1024, 256]\n",
            "  weight_hh              [1024, 256]\n",
            "67_LSTMCell                        -            [32, 256]          (recursive)                 0.52\n",
            "  weight_ih              [1024, 256]\n",
            "  weight_hh              [1024, 256]\n",
            "68_Linear               [256, 33280]          [32, 33280]          (recursive)                 8.52\n",
            "69_LSTMCell                        -            [32, 256]          (recursive)                 0.52\n",
            "  weight_ih              [1024, 256]\n",
            "  weight_hh              [1024, 256]\n",
            "70_LSTMCell                        -            [32, 256]          (recursive)                 0.52\n",
            "  weight_ih              [1024, 256]\n",
            "  weight_hh              [1024, 256]\n",
            "71_LSTMCell                        -            [32, 256]          (recursive)                 0.52\n",
            "  weight_ih              [1024, 256]\n",
            "  weight_hh              [1024, 256]\n",
            "72_Linear               [256, 33280]          [32, 33280]          (recursive)                 8.52\n",
            "73_LSTMCell                        -            [32, 256]          (recursive)                 0.52\n",
            "  weight_ih              [1024, 256]\n",
            "  weight_hh              [1024, 256]\n",
            "74_LSTMCell                        -            [32, 256]          (recursive)                 0.52\n",
            "  weight_ih              [1024, 256]\n",
            "  weight_hh              [1024, 256]\n",
            "75_LSTMCell                        -            [32, 256]          (recursive)                 0.52\n",
            "  weight_ih              [1024, 256]\n",
            "  weight_hh              [1024, 256]\n",
            "76_Linear               [256, 33280]          [32, 33280]          (recursive)                 8.52\n",
            "77_LSTMCell                        -            [32, 256]          (recursive)                 0.52\n",
            "  weight_ih              [1024, 256]\n",
            "  weight_hh              [1024, 256]\n",
            "78_LSTMCell                        -            [32, 256]          (recursive)                 0.52\n",
            "  weight_ih              [1024, 256]\n",
            "  weight_hh              [1024, 256]\n",
            "79_LSTMCell                        -            [32, 256]          (recursive)                 0.52\n",
            "  weight_ih              [1024, 256]\n",
            "  weight_hh              [1024, 256]\n",
            "80_Linear               [256, 33280]          [32, 33280]          (recursive)                 8.52\n",
            "81_LSTMCell                        -            [32, 256]          (recursive)                 0.52\n",
            "  weight_ih              [1024, 256]\n",
            "  weight_hh              [1024, 256]\n",
            "82_LSTMCell                        -            [32, 256]          (recursive)                 0.52\n",
            "  weight_ih              [1024, 256]\n",
            "  weight_hh              [1024, 256]\n",
            "83_LSTMCell                        -            [32, 256]          (recursive)                 0.52\n",
            "  weight_ih              [1024, 256]\n",
            "  weight_hh              [1024, 256]\n",
            "84_Linear               [256, 33280]          [32, 33280]          (recursive)                 8.52\n",
            "85_LSTMCell                        -            [32, 256]          (recursive)                 0.52\n",
            "  weight_ih              [1024, 256]\n",
            "  weight_hh              [1024, 256]\n",
            "86_LSTMCell                        -            [32, 256]          (recursive)                 0.52\n",
            "  weight_ih              [1024, 256]\n",
            "  weight_hh              [1024, 256]\n",
            "87_LSTMCell                        -            [32, 256]          (recursive)                 0.52\n",
            "  weight_ih              [1024, 256]\n",
            "  weight_hh              [1024, 256]\n",
            "88_Linear               [256, 33280]          [32, 33280]          (recursive)                 8.52\n",
            "89_LSTMCell                        -            [32, 256]          (recursive)                 0.52\n",
            "  weight_ih              [1024, 256]\n",
            "  weight_hh              [1024, 256]\n",
            "90_LSTMCell                        -            [32, 256]          (recursive)                 0.52\n",
            "  weight_ih              [1024, 256]\n",
            "  weight_hh              [1024, 256]\n",
            "91_LSTMCell                        -            [32, 256]          (recursive)                 0.52\n",
            "  weight_ih              [1024, 256]\n",
            "  weight_hh              [1024, 256]\n",
            "92_Linear               [256, 33280]          [32, 33280]          (recursive)                 8.52\n",
            "93_LSTMCell                        -            [32, 256]          (recursive)                 0.52\n",
            "  weight_ih              [1024, 256]\n",
            "  weight_hh              [1024, 256]\n",
            "94_LSTMCell                        -            [32, 256]          (recursive)                 0.52\n",
            "  weight_ih              [1024, 256]\n",
            "  weight_hh              [1024, 256]\n",
            "95_LSTMCell                        -            [32, 256]          (recursive)                 0.52\n",
            "  weight_ih              [1024, 256]\n",
            "  weight_hh              [1024, 256]\n",
            "96_Linear               [256, 33280]          [32, 33280]          (recursive)                 8.52\n",
            "97_LSTMCell                        -            [32, 256]          (recursive)                 0.52\n",
            "  weight_ih              [1024, 256]\n",
            "  weight_hh              [1024, 256]\n",
            "98_LSTMCell                        -            [32, 256]          (recursive)                 0.52\n",
            "  weight_ih              [1024, 256]\n",
            "  weight_hh              [1024, 256]\n",
            "99_LSTMCell                        -            [32, 256]          (recursive)                 0.52\n",
            "  weight_ih              [1024, 256]\n",
            "  weight_hh              [1024, 256]\n",
            "100_Linear              [256, 33280]          [32, 33280]          (recursive)                 8.52\n",
            "====================================================================================================\n",
            "# Params:    18,651.65K\n",
            "# Mult-Adds: 260.83M\n",
            "----------------------------------------------------------------------------------------------------\n"
          ]
        }
      ],
      "source": [
        "# --------------------------------------------------- #\n",
        "\n",
        "# TODO: Define the dataloader\n",
        "loader = DataLoaderForLanguageModeling(dataset= dataset, batch_size= config['batch_size'])\n",
        "\n",
        "# --------------------------------------------------- #\n",
        "\n",
        "# TODO: Define the model\n",
        "model = LanguageModel(vocab_size= len(VOCAB)).to(DEVICE)\n",
        "\n",
        "# --------------------------------------------------- #\n",
        "\n",
        "# TODO: Define the criterion\n",
        "criterion   = torch.nn.CrossEntropyLoss()\n",
        "\n",
        "# --------------------------------------------------- #\n",
        "\n",
        "# TODO: Define the optimizer\n",
        "## Adam/AdamW usually works good for this HW\n",
        "optimizer   = torch.optim.Adam(model.parameters(), lr= config['init_lr'], weight_decay= 1e-6)\n",
        "\n",
        "# --------------------------------------------------- #\n",
        "\n",
        "# TODO: Define scheduler\n",
        "scheduler = torch.optim.lr_scheduler.ReduceLROnPlateau(optimizer, 'min', factor=0.5, patience=0)\n",
        "\n",
        "# --------------------------------------------------- #\n",
        "\n",
        "#TODO: Define scaler for mixed precision\n",
        "scaler = torch.cuda.amp.GradScaler()\n",
        "\n",
        "print(model)\n",
        "summary = torchsummaryX.summary(model.to(DEVICE), x = torch.tensor(inputs).to(DEVICE))"
      ]
    },
    {
      "cell_type": "markdown",
      "metadata": {
        "cell_id": "8ed5a6ef54f9446fab752b79c70a0216",
        "deepnote_cell_type": "markdown",
        "id": "TlWF_bpLznup"
      },
      "source": [
        "# **Trainer class**"
      ]
    },
    {
      "cell_type": "code",
      "execution_count": 18,
      "metadata": {
        "cell_id": "8ea986fc372643389d1ab4c445659e9d",
        "deepnote_cell_type": "code",
        "deepnote_to_be_reexecuted": true,
        "execution": {
          "iopub.execute_input": "2022-08-10T14:02:13.440820Z",
          "iopub.status.busy": "2022-08-10T14:02:13.440281Z",
          "iopub.status.idle": "2022-08-10T14:02:13.644455Z",
          "shell.execute_reply": "2022-08-10T14:02:13.642614Z",
          "shell.execute_reply.started": "2022-08-10T14:02:13.440752Z"
        },
        "id": "kIvZOIfjSwRK",
        "source_hash": "451a140f",
        "tags": []
      },
      "outputs": [],
      "source": [
        "# Unlike all the P2s, we are using a Trainer class for this HW.\n",
        "# Many researchers also use classes like this for training. You may have encountered them in your project as well.\n",
        "# You dont have to complete everything in this class, you only need to complete the train function.\n",
        "# However, its good to go through the code and see what it does.\n",
        "\n",
        "class Trainer:\n",
        "    def __init__(self, model, loader, optimizer, criterion, scheduler, scaler, max_epochs= 1, run_id= 'exp'):\n",
        "        \"\"\"\n",
        "            Use this class to train your model\n",
        "        \"\"\"\n",
        "        # feel free to add any other parameters here\n",
        "        self.model      = model\n",
        "        self.loader     = loader\n",
        "        self.optimizer  = optimizer\n",
        "        self.criterion  = criterion\n",
        "        self.scheduler  = scheduler\n",
        "        self.scaler     = scaler\n",
        "\n",
        "        self.train_losses           = []\n",
        "        self.val_losses             = []\n",
        "        self.prediction_probs       = []\n",
        "        self.prediction_probs_test  = []\n",
        "        self.generated_texts_test   = []\n",
        "        self.epochs                 = 0\n",
        "        self.max_epochs             = max_epochs\n",
        "        self.run_id                 = run_id\n",
        "        self.nll                    = 6\n",
        "\n",
        "\n",
        "    def calculate_loss(self, out, target):\n",
        "        # output: (B, T, Vocab_size) - probability distributions\n",
        "        # target: (B, T)\n",
        "        # Read the documentation of CrossEntropyLoss and try to understand how it takes inputs\n",
        "\n",
        "        # Tip: If your target is of shape (B, T) it means that you have B batches with T words.\n",
        "        # Tip: What is the total number of words in this batch?\n",
        "        # Tip: Crossentropy calculates the loss between a label and its probability distribution.\n",
        "\n",
        "        out     = out.view(-1, out.size(-1))\n",
        "        targets = target.view(-1)\n",
        "        loss    = self.criterion(out, targets)\n",
        "\n",
        "        return loss\n",
        "\n",
        "\n",
        "    def train(self):\n",
        "\n",
        "        self.model.train() # set to training mode\n",
        "        self.model.to(DEVICE)\n",
        "        epoch_loss  = 0\n",
        "        num_batches = 0\n",
        "\n",
        "        for batch_num, (inputs, targets) in enumerate(tqdm(self.loader)):\n",
        "\n",
        "            # TODO: Complete the loop. You should be able to complete this without any helper comments after 3 HWs\n",
        "            # Tip: Use Mixed Precision Training\n",
        "            # For loss calculation, use the calculate_loss function. You need to complete it before using.\n",
        "\n",
        "            inputs = torch.tensor(inputs).long().to(DEVICE)\n",
        "            targets = torch.tensor(targets).long().to(DEVICE)\n",
        "\n",
        "            self.optimizer.zero_grad()\n",
        "\n",
        "            with torch.cuda.amp.autocast():\n",
        "                # Add code here\n",
        "                out, _ = self.model(inputs)\n",
        "                loss = self.calculate_loss(out, targets)\n",
        "\n",
        "            loss_item = loss.item()\n",
        "            epoch_loss += loss_item\n",
        "\n",
        "            # TODO: Add backward and, optimiser step and scaler update code here:\n",
        "            self.scaler.scale(loss).backward()\n",
        "            self.scaler.step(self.optimizer)\n",
        "            self.scaler.update()\n",
        "\n",
        "        self.scheduler.step(epoch_loss)\n",
        "\n",
        "        epoch_loss = epoch_loss / (batch_num + 1)\n",
        "        self.epochs += 1\n",
        "        print('[TRAIN] \\tEpoch [%d/%d] \\tLoss: %.4f \\tLr: %.6f'\n",
        "                    % (self.epochs, self.max_epochs, epoch_loss, self.optimizer.param_groups[0]['lr']))\n",
        "        self.train_losses.append(epoch_loss)\n",
        "\n",
        "        return (epoch_loss, self.optimizer.param_groups[0]['lr'])\n",
        "\n",
        "\n",
        "\n",
        "    def test(self): # Don't change this function\n",
        "\n",
        "        self.model.eval() # set to eval mode\n",
        "        prediction_probs     = self.model.predict(fixtures_pred['inp']).detach().cpu().numpy() # get predictions\n",
        "        self.prediction_probs.append(prediction_probs)\n",
        "\n",
        "        generated_indexes_test   = self.model.generate(fixtures_gen_test, 10).detach().cpu().numpy() # generated predictions for 10 words\n",
        "\n",
        "        self.nll                   = get_prediction_nll(prediction_probs, fixtures_pred['out'])\n",
        "        generated_texts_test  = make_generation_text(fixtures_gen_test, generated_indexes_test, VOCAB)\n",
        "        self.val_losses.append(self.nll)\n",
        "\n",
        "        self.generated_texts_test.append(generated_texts_test)\n",
        "\n",
        "        # generate predictions for test data\n",
        "        prediction_probs_test = self.model.predict(fixtures_pred_test['inp']).detach().cpu().numpy() # get predictions\n",
        "        self.prediction_probs_test.append(prediction_probs_test)\n",
        "\n",
        "        print('[VAL] \\tEpoch [%d/%d] \\tLoss: %.4f'\n",
        "                      % (self.epochs, self.max_epochs, self.nll))\n",
        "        return self.nll \n",
        "\n",
        "\n",
        "    def save(self): # Don't change this function\n",
        "\n",
        "        model_path = os.path.join('./experiments', self.run_id, 'model-{}.pkl'.format(self.epochs))\n",
        "        torch.save({'state_dict': self.model.state_dict()}, model_path)\n",
        "        np.save(os.path.join('./experiments', self.run_id, 'prediction-probs-{}.npy'.format(self.epochs)), self.prediction_probs[-1])\n",
        "        np.save(os.path.join('./experiments', self.run_id, 'prediction-probs-test-{}.npy'.format(self.epochs)), self.prediction_probs_test[-1])\n",
        "\n",
        "        with open(os.path.join('./experiments', self.run_id, 'generated-texts-{}-test.txt'.format(self.epochs)), 'w') as fw:\n",
        "            fw.write(self.generated_texts_test[-1])"
      ]
    },
    {
      "cell_type": "code",
      "execution_count": 19,
      "metadata": {
        "cell_id": "aaff53cf948e44b7b9bd49cbcad0ac58",
        "deepnote_cell_type": "code",
        "deepnote_to_be_reexecuted": true,
        "execution": {
          "iopub.execute_input": "2022-08-10T14:02:13.931258Z",
          "iopub.status.busy": "2022-08-10T14:02:13.930204Z",
          "iopub.status.idle": "2022-08-10T14:02:14.107883Z",
          "shell.execute_reply": "2022-08-10T14:02:14.105987Z",
          "shell.execute_reply.started": "2022-08-10T14:02:13.931185Z"
        },
        "id": "2HCVG5YISwRW",
        "source_hash": "c9f4594a",
        "tags": []
      },
      "outputs": [
        {
          "name": "stdout",
          "output_type": "stream",
          "text": [
            "Saving models, prediction prbabilities, and generated texts to ./experiments/1713724593\n"
          ]
        }
      ],
      "source": [
        "# Dont change this cell\n",
        "\n",
        "run_id = str(int(time.time()))\n",
        "if not os.path.exists('./experiments'):\n",
        "    os.mkdir('./experiments')\n",
        "os.mkdir('./experiments/%s' % run_id)\n",
        "print(\"Saving models, prediction prbabilities, and generated texts to ./experiments/%s\" % run_id)\n",
        "\n",
        "# The object of the Trainer class takes in everything\n",
        "trainer = Trainer(\n",
        "    model       = model,\n",
        "    loader      = loader,\n",
        "\n",
        "    optimizer   = optimizer,\n",
        "    criterion   = criterion,\n",
        "    scheduler   = scheduler,\n",
        "    scaler      = scaler,\n",
        "    max_epochs  = config['num_epochs'],\n",
        "    run_id      = run_id\n",
        ")"
      ]
    },
    {
      "cell_type": "markdown",
      "metadata": {
        "id": "Dfrf1FoSoAI0"
      },
      "source": [
        "# **Wandb**"
      ]
    },
    {
      "cell_type": "code",
      "execution_count": 20,
      "metadata": {
        "id": "EuIbwKXToCt-"
      },
      "outputs": [
        {
          "name": "stderr",
          "output_type": "stream",
          "text": [
            "Failed to detect the name of this notebook, you can set it manually with the WANDB_NOTEBOOK_NAME environment variable to enable code saving.\n",
            "\u001b[34m\u001b[1mwandb\u001b[0m: Currently logged in as: \u001b[33makameswa\u001b[0m (\u001b[33mhickups\u001b[0m). Use \u001b[1m`wandb login --relogin`\u001b[0m to force relogin\n",
            "\u001b[34m\u001b[1mwandb\u001b[0m: \u001b[33mWARNING\u001b[0m If you're specifying your api key in code, ensure this code is not shared publicly.\n",
            "\u001b[34m\u001b[1mwandb\u001b[0m: \u001b[33mWARNING\u001b[0m Consider setting the WANDB_API_KEY environment variable, or running `wandb login` from the command line.\n",
            "\u001b[34m\u001b[1mwandb\u001b[0m: Appending key for api.wandb.ai to your netrc file: C:\\Users\\adith\\.netrc\n",
            "\u001b[34m\u001b[1mwandb\u001b[0m: Currently logged in as: \u001b[33makameswa\u001b[0m (\u001b[33mtekkotsu\u001b[0m). Use \u001b[1m`wandb login --relogin`\u001b[0m to force relogin\n"
          ]
        },
        {
          "data": {
            "text/html": [
              "Tracking run with wandb version 0.16.6"
            ],
            "text/plain": [
              "<IPython.core.display.HTML object>"
            ]
          },
          "metadata": {},
          "output_type": "display_data"
        },
        {
          "data": {
            "text/html": [
              "Run data is saved locally in <code>c:\\D\\CMU\\Courses\\S24\\11-785\\git\\hw4\\p1\\wandb\\run-20240421_143635-287xv7nv</code>"
            ],
            "text/plain": [
              "<IPython.core.display.HTML object>"
            ]
          },
          "metadata": {},
          "output_type": "display_data"
        },
        {
          "data": {
            "text/html": [
              "Syncing run <strong><a href='https://wandb.ai/tekkotsu/hw4p1-s24/runs/287xv7nv' target=\"_blank\">a10</a></strong> to <a href='https://wandb.ai/tekkotsu/hw4p1-s24' target=\"_blank\">Weights & Biases</a> (<a href='https://wandb.me/run' target=\"_blank\">docs</a>)<br/>"
            ],
            "text/plain": [
              "<IPython.core.display.HTML object>"
            ]
          },
          "metadata": {},
          "output_type": "display_data"
        },
        {
          "data": {
            "text/html": [
              " View project at <a href='https://wandb.ai/tekkotsu/hw4p1-s24' target=\"_blank\">https://wandb.ai/tekkotsu/hw4p1-s24</a>"
            ],
            "text/plain": [
              "<IPython.core.display.HTML object>"
            ]
          },
          "metadata": {},
          "output_type": "display_data"
        },
        {
          "data": {
            "text/html": [
              " View run at <a href='https://wandb.ai/tekkotsu/hw4p1-s24/runs/287xv7nv' target=\"_blank\">https://wandb.ai/tekkotsu/hw4p1-s24/runs/287xv7nv</a>"
            ],
            "text/plain": [
              "<IPython.core.display.HTML object>"
            ]
          },
          "metadata": {},
          "output_type": "display_data"
        }
      ],
      "source": [
        "# Use wandb? Resume Training?\n",
        "USE_WANDB = True\n",
        "RESUME_LOGGING = False\n",
        "\n",
        "# Create your wandb run\n",
        "\n",
        "run_name = \"a10\"\n",
        "\n",
        "if USE_WANDB:\n",
        "\n",
        "    wandb.login(key=\"\")\n",
        "\n",
        "    if RESUME_LOGGING:\n",
        "        run_id = ''\n",
        "        run = wandb.init(\n",
        "            id     = run_id, ### Insert specific run id here if you want to resume a previous run\n",
        "            resume = \"must\", ### You need this to resume previous runs, but comment out reinit = True when using this\n",
        "            project = \"hw4p1-s24\", ### Project should be created in your wandb account\n",
        "        )\n",
        "    else:\n",
        "        run = wandb.init(\n",
        "            name    = run_name, ### Wandb creates random run names if you skip this field, we recommend you give useful names\n",
        "            reinit  = True, ### Allows reinitalizing runs when you re-run this cell\n",
        "            project = \"hw4p1-s24\", ### Project should be created in your wandb account\n",
        "            config  = config, ### Wandb Config for your run\n",
        "            entity  = \"tekkotsu\",\n",
        "        )\n",
        "\n",
        "        ### Save your model architecture as a string with str(model)\n",
        "        model_arch  = str(model)\n",
        "        ### Save it in a txt file\n",
        "        arch_file   = open(\"model_arch.txt\", \"w\")\n",
        "        file_write  = arch_file.write(model_arch)\n",
        "        arch_file.close()\n",
        "\n",
        "        ### log it in your wandb run with wandb.save()\n",
        "        # wandb.save('model_arch.txt')"
      ]
    },
    {
      "cell_type": "markdown",
      "metadata": {
        "id": "0fcxKXL0hrxX"
      },
      "source": [
        "# **Experiments**"
      ]
    },
    {
      "cell_type": "code",
      "execution_count": 21,
      "metadata": {
        "id": "-pLh5_LCpVxw"
      },
      "outputs": [
        {
          "name": "stderr",
          "output_type": "stream",
          "text": [
            "  0%|          | 0/404 [00:00<?, ?it/s]<ipython-input-18-9a8333da276e>:59: UserWarning: To copy construct from a tensor, it is recommended to use sourceTensor.clone().detach() or sourceTensor.clone().detach().requires_grad_(True), rather than torch.tensor(sourceTensor).\n",
            "  inputs = torch.tensor(inputs).long().to(DEVICE)\n",
            "<ipython-input-18-9a8333da276e>:60: UserWarning: To copy construct from a tensor, it is recommended to use sourceTensor.clone().detach() or sourceTensor.clone().detach().requires_grad_(True), rather than torch.tensor(sourceTensor).\n",
            "  targets = torch.tensor(targets).long().to(DEVICE)\n",
            "100%|██████████| 404/404 [00:29<00:00, 13.88it/s]\n"
          ]
        },
        {
          "name": "stdout",
          "output_type": "stream",
          "text": [
            "[TRAIN] \tEpoch [1/30] \tLoss: 7.5016 \tLr: 0.002000\n",
            "[VAL] \tEpoch [1/30] \tLoss: 6.6854\n",
            "Saving model, prediction probabilities and generated texts for epoch 1 with NLL: 6.685357\n"
          ]
        },
        {
          "name": "stderr",
          "output_type": "stream",
          "text": [
            "  0%|          | 0/404 [00:00<?, ?it/s]<ipython-input-18-9a8333da276e>:59: UserWarning: To copy construct from a tensor, it is recommended to use sourceTensor.clone().detach() or sourceTensor.clone().detach().requires_grad_(True), rather than torch.tensor(sourceTensor).\n",
            "  inputs = torch.tensor(inputs).long().to(DEVICE)\n",
            "<ipython-input-18-9a8333da276e>:60: UserWarning: To copy construct from a tensor, it is recommended to use sourceTensor.clone().detach() or sourceTensor.clone().detach().requires_grad_(True), rather than torch.tensor(sourceTensor).\n",
            "  targets = torch.tensor(targets).long().to(DEVICE)\n",
            "100%|██████████| 404/404 [00:28<00:00, 14.34it/s]\n"
          ]
        },
        {
          "name": "stdout",
          "output_type": "stream",
          "text": [
            "[TRAIN] \tEpoch [2/30] \tLoss: 6.8980 \tLr: 0.002000\n",
            "[VAL] \tEpoch [2/30] \tLoss: 6.0046\n",
            "Saving model, prediction probabilities and generated texts for epoch 2 with NLL: 6.004599\n"
          ]
        },
        {
          "name": "stderr",
          "output_type": "stream",
          "text": [
            "100%|██████████| 404/404 [00:28<00:00, 14.15it/s]\n"
          ]
        },
        {
          "name": "stdout",
          "output_type": "stream",
          "text": [
            "[TRAIN] \tEpoch [3/30] \tLoss: 6.2779 \tLr: 0.002000\n",
            "[VAL] \tEpoch [3/30] \tLoss: 5.5004\n",
            "Saving model, prediction probabilities and generated texts for epoch 3 with NLL: 5.5004206\n"
          ]
        },
        {
          "name": "stderr",
          "output_type": "stream",
          "text": [
            "100%|██████████| 404/404 [00:27<00:00, 14.55it/s]\n"
          ]
        },
        {
          "name": "stdout",
          "output_type": "stream",
          "text": [
            "[TRAIN] \tEpoch [4/30] \tLoss: 5.9462 \tLr: 0.002000\n",
            "[VAL] \tEpoch [4/30] \tLoss: 5.1656\n",
            "Saving model, prediction probabilities and generated texts for epoch 4 with NLL: 5.165614\n"
          ]
        },
        {
          "name": "stderr",
          "output_type": "stream",
          "text": [
            "100%|██████████| 404/404 [00:28<00:00, 14.41it/s]\n"
          ]
        },
        {
          "name": "stdout",
          "output_type": "stream",
          "text": [
            "[TRAIN] \tEpoch [5/30] \tLoss: 5.7386 \tLr: 0.002000\n",
            "[VAL] \tEpoch [5/30] \tLoss: 4.9920\n",
            "Saving model, prediction probabilities and generated texts for epoch 5 with NLL: 4.992025\n"
          ]
        },
        {
          "name": "stderr",
          "output_type": "stream",
          "text": [
            "100%|██████████| 404/404 [00:27<00:00, 14.51it/s]\n"
          ]
        },
        {
          "name": "stdout",
          "output_type": "stream",
          "text": [
            "[TRAIN] \tEpoch [6/30] \tLoss: 5.5860 \tLr: 0.002000\n",
            "[VAL] \tEpoch [6/30] \tLoss: 4.9721\n",
            "Saving model, prediction probabilities and generated texts for epoch 6 with NLL: 4.9720507\n"
          ]
        },
        {
          "name": "stderr",
          "output_type": "stream",
          "text": [
            "100%|██████████| 404/404 [00:27<00:00, 14.48it/s]\n"
          ]
        },
        {
          "name": "stdout",
          "output_type": "stream",
          "text": [
            "[TRAIN] \tEpoch [7/30] \tLoss: 5.4649 \tLr: 0.002000\n",
            "[VAL] \tEpoch [7/30] \tLoss: 4.8121\n",
            "Saving model, prediction probabilities and generated texts for epoch 7 with NLL: 4.812068\n"
          ]
        },
        {
          "name": "stderr",
          "output_type": "stream",
          "text": [
            "100%|██████████| 404/404 [00:28<00:00, 14.39it/s]\n"
          ]
        },
        {
          "name": "stdout",
          "output_type": "stream",
          "text": [
            "[TRAIN] \tEpoch [8/30] \tLoss: 5.3559 \tLr: 0.002000\n",
            "[VAL] \tEpoch [8/30] \tLoss: 4.7975\n",
            "Saving model, prediction probabilities and generated texts for epoch 8 with NLL: 4.797518\n"
          ]
        },
        {
          "name": "stderr",
          "output_type": "stream",
          "text": [
            "100%|██████████| 404/404 [00:28<00:00, 14.40it/s]\n"
          ]
        },
        {
          "name": "stdout",
          "output_type": "stream",
          "text": [
            "[TRAIN] \tEpoch [9/30] \tLoss: 5.2563 \tLr: 0.002000\n",
            "[VAL] \tEpoch [9/30] \tLoss: 4.7390\n",
            "Saving model, prediction probabilities and generated texts for epoch 9 with NLL: 4.738953\n"
          ]
        },
        {
          "name": "stderr",
          "output_type": "stream",
          "text": [
            "100%|██████████| 404/404 [00:28<00:00, 14.20it/s]\n"
          ]
        },
        {
          "name": "stdout",
          "output_type": "stream",
          "text": [
            "[TRAIN] \tEpoch [10/30] \tLoss: 5.1690 \tLr: 0.002000\n",
            "[VAL] \tEpoch [10/30] \tLoss: 4.6725\n",
            "Saving model, prediction probabilities and generated texts for epoch 10 with NLL: 4.6725006\n"
          ]
        },
        {
          "name": "stderr",
          "output_type": "stream",
          "text": [
            "100%|██████████| 404/404 [00:28<00:00, 14.25it/s]\n"
          ]
        },
        {
          "name": "stdout",
          "output_type": "stream",
          "text": [
            "[TRAIN] \tEpoch [11/30] \tLoss: 5.0895 \tLr: 0.002000\n",
            "[VAL] \tEpoch [11/30] \tLoss: 4.7468\n"
          ]
        },
        {
          "name": "stderr",
          "output_type": "stream",
          "text": [
            "100%|██████████| 404/404 [00:28<00:00, 14.41it/s]\n"
          ]
        },
        {
          "name": "stdout",
          "output_type": "stream",
          "text": [
            "[TRAIN] \tEpoch [12/30] \tLoss: 5.0184 \tLr: 0.002000\n",
            "[VAL] \tEpoch [12/30] \tLoss: 4.6211\n",
            "Saving model, prediction probabilities and generated texts for epoch 12 with NLL: 4.621148\n"
          ]
        },
        {
          "name": "stderr",
          "output_type": "stream",
          "text": [
            "100%|██████████| 404/404 [00:28<00:00, 14.17it/s]\n"
          ]
        },
        {
          "name": "stdout",
          "output_type": "stream",
          "text": [
            "[TRAIN] \tEpoch [13/30] \tLoss: 4.9561 \tLr: 0.002000\n",
            "[VAL] \tEpoch [13/30] \tLoss: 4.6202\n",
            "Saving model, prediction probabilities and generated texts for epoch 13 with NLL: 4.620164\n"
          ]
        },
        {
          "name": "stderr",
          "output_type": "stream",
          "text": [
            "100%|██████████| 404/404 [00:28<00:00, 14.26it/s]\n"
          ]
        },
        {
          "name": "stdout",
          "output_type": "stream",
          "text": [
            "[TRAIN] \tEpoch [14/30] \tLoss: 4.8931 \tLr: 0.002000\n",
            "[VAL] \tEpoch [14/30] \tLoss: 4.6095\n",
            "Saving model, prediction probabilities and generated texts for epoch 14 with NLL: 4.6094685\n"
          ]
        },
        {
          "name": "stderr",
          "output_type": "stream",
          "text": [
            "100%|██████████| 404/404 [00:28<00:00, 14.29it/s]\n"
          ]
        },
        {
          "name": "stdout",
          "output_type": "stream",
          "text": [
            "[TRAIN] \tEpoch [15/30] \tLoss: 4.8422 \tLr: 0.002000\n",
            "[VAL] \tEpoch [15/30] \tLoss: 4.6075\n",
            "Saving model, prediction probabilities and generated texts for epoch 15 with NLL: 4.607519\n"
          ]
        },
        {
          "name": "stderr",
          "output_type": "stream",
          "text": [
            "100%|██████████| 404/404 [00:27<00:00, 14.47it/s]\n"
          ]
        },
        {
          "name": "stdout",
          "output_type": "stream",
          "text": [
            "[TRAIN] \tEpoch [16/30] \tLoss: 4.7878 \tLr: 0.002000\n",
            "[VAL] \tEpoch [16/30] \tLoss: 4.5539\n",
            "Saving model, prediction probabilities and generated texts for epoch 16 with NLL: 4.5539236\n"
          ]
        },
        {
          "name": "stderr",
          "output_type": "stream",
          "text": [
            "100%|██████████| 404/404 [00:28<00:00, 14.40it/s]\n"
          ]
        },
        {
          "name": "stdout",
          "output_type": "stream",
          "text": [
            "[TRAIN] \tEpoch [17/30] \tLoss: 4.7474 \tLr: 0.002000\n",
            "[VAL] \tEpoch [17/30] \tLoss: 4.4833\n",
            "Saving model, prediction probabilities and generated texts for epoch 17 with NLL: 4.4833083\n"
          ]
        },
        {
          "name": "stderr",
          "output_type": "stream",
          "text": [
            "100%|██████████| 404/404 [00:28<00:00, 14.31it/s]\n"
          ]
        },
        {
          "name": "stdout",
          "output_type": "stream",
          "text": [
            "[TRAIN] \tEpoch [18/30] \tLoss: 4.7042 \tLr: 0.002000\n",
            "[VAL] \tEpoch [18/30] \tLoss: 4.6373\n"
          ]
        },
        {
          "name": "stderr",
          "output_type": "stream",
          "text": [
            "100%|██████████| 404/404 [00:28<00:00, 14.32it/s]\n"
          ]
        },
        {
          "name": "stdout",
          "output_type": "stream",
          "text": [
            "[TRAIN] \tEpoch [19/30] \tLoss: 4.6632 \tLr: 0.002000\n",
            "[VAL] \tEpoch [19/30] \tLoss: 4.5588\n"
          ]
        },
        {
          "name": "stderr",
          "output_type": "stream",
          "text": [
            "100%|██████████| 404/404 [00:28<00:00, 14.28it/s]\n"
          ]
        },
        {
          "name": "stdout",
          "output_type": "stream",
          "text": [
            "[TRAIN] \tEpoch [20/30] \tLoss: 4.6281 \tLr: 0.002000\n",
            "[VAL] \tEpoch [20/30] \tLoss: 4.6197\n"
          ]
        },
        {
          "name": "stderr",
          "output_type": "stream",
          "text": [
            "100%|██████████| 404/404 [00:28<00:00, 14.38it/s]\n"
          ]
        },
        {
          "name": "stdout",
          "output_type": "stream",
          "text": [
            "[TRAIN] \tEpoch [21/30] \tLoss: 4.5916 \tLr: 0.002000\n",
            "[VAL] \tEpoch [21/30] \tLoss: 4.6629\n"
          ]
        },
        {
          "name": "stderr",
          "output_type": "stream",
          "text": [
            "100%|██████████| 404/404 [00:27<00:00, 14.46it/s]\n"
          ]
        },
        {
          "name": "stdout",
          "output_type": "stream",
          "text": [
            "[TRAIN] \tEpoch [22/30] \tLoss: 4.5625 \tLr: 0.002000\n",
            "[VAL] \tEpoch [22/30] \tLoss: 4.6641\n"
          ]
        },
        {
          "name": "stderr",
          "output_type": "stream",
          "text": [
            "100%|██████████| 404/404 [00:28<00:00, 14.39it/s]\n"
          ]
        },
        {
          "name": "stdout",
          "output_type": "stream",
          "text": [
            "[TRAIN] \tEpoch [23/30] \tLoss: 4.5330 \tLr: 0.002000\n",
            "[VAL] \tEpoch [23/30] \tLoss: 4.5520\n"
          ]
        },
        {
          "name": "stderr",
          "output_type": "stream",
          "text": [
            "100%|██████████| 404/404 [00:27<00:00, 14.43it/s]\n"
          ]
        },
        {
          "name": "stdout",
          "output_type": "stream",
          "text": [
            "[TRAIN] \tEpoch [24/30] \tLoss: 4.5013 \tLr: 0.002000\n",
            "[VAL] \tEpoch [24/30] \tLoss: 4.4645\n",
            "Saving model, prediction probabilities and generated texts for epoch 24 with NLL: 4.464549\n"
          ]
        },
        {
          "name": "stderr",
          "output_type": "stream",
          "text": [
            "100%|██████████| 404/404 [00:28<00:00, 14.32it/s]\n"
          ]
        },
        {
          "name": "stdout",
          "output_type": "stream",
          "text": [
            "[TRAIN] \tEpoch [25/30] \tLoss: 4.4761 \tLr: 0.002000\n",
            "[VAL] \tEpoch [25/30] \tLoss: 4.5968\n"
          ]
        },
        {
          "name": "stderr",
          "output_type": "stream",
          "text": [
            "100%|██████████| 404/404 [00:27<00:00, 14.55it/s]\n"
          ]
        },
        {
          "name": "stdout",
          "output_type": "stream",
          "text": [
            "[TRAIN] \tEpoch [26/30] \tLoss: 4.4522 \tLr: 0.002000\n",
            "[VAL] \tEpoch [26/30] \tLoss: 4.6783\n"
          ]
        },
        {
          "name": "stderr",
          "output_type": "stream",
          "text": [
            "100%|██████████| 404/404 [00:28<00:00, 14.28it/s]\n"
          ]
        },
        {
          "name": "stdout",
          "output_type": "stream",
          "text": [
            "[TRAIN] \tEpoch [27/30] \tLoss: 4.4269 \tLr: 0.002000\n",
            "[VAL] \tEpoch [27/30] \tLoss: 4.4995\n"
          ]
        },
        {
          "name": "stderr",
          "output_type": "stream",
          "text": [
            "100%|██████████| 404/404 [00:28<00:00, 14.34it/s]\n"
          ]
        },
        {
          "name": "stdout",
          "output_type": "stream",
          "text": [
            "[TRAIN] \tEpoch [28/30] \tLoss: 4.4012 \tLr: 0.002000\n",
            "[VAL] \tEpoch [28/30] \tLoss: 4.6595\n"
          ]
        },
        {
          "name": "stderr",
          "output_type": "stream",
          "text": [
            "100%|██████████| 404/404 [00:27<00:00, 14.45it/s]\n"
          ]
        },
        {
          "name": "stdout",
          "output_type": "stream",
          "text": [
            "[TRAIN] \tEpoch [29/30] \tLoss: 4.3831 \tLr: 0.002000\n",
            "[VAL] \tEpoch [29/30] \tLoss: 4.6298\n"
          ]
        },
        {
          "name": "stderr",
          "output_type": "stream",
          "text": [
            "100%|██████████| 404/404 [00:28<00:00, 14.41it/s]\n"
          ]
        },
        {
          "name": "stdout",
          "output_type": "stream",
          "text": [
            "[TRAIN] \tEpoch [30/30] \tLoss: 4.3600 \tLr: 0.002000\n",
            "[VAL] \tEpoch [30/30] \tLoss: 4.6801\n"
          ]
        }
      ],
      "source": [
        "# Run the experiments loop.\n",
        "# Each epoch wont take more than 2-3min. If its taking more time, it might be due to (but not limited to) the following:\n",
        "#   * You might be overlapping batches\n",
        "#       Eg. Input: \"I had biryani for lunch today\" and sequence length = 3,\n",
        "#           --> \"I had biryani\", \"for lunch today\" are ideal examples for inputs\n",
        "#           --> \"I had biryani\", \"had biryani for\", \"biryani for lunch\", ... is just redundant info :')\n",
        "#   * Your length calculation in the dataloader might be wrong\n",
        "# If you haven't had biryani, try it :D\n",
        "\n",
        "wandb.watch(model, log=\"all\")\n",
        "\n",
        "torch.cuda.empty_cache()\n",
        "gc.collect()\n",
        "\n",
        "# %%time\n",
        "best_nll = 1e30\n",
        "for epoch in range(config['num_epochs']):\n",
        "    train_loss, curr_lr = trainer.train()\n",
        "    nll = trainer.test()\n",
        "    if nll < best_nll:\n",
        "        best_nll = nll\n",
        "        print(\"Saving model, prediction probabilities and generated texts for epoch \"+str(epoch+1)+\" with NLL: \"+ str(best_nll))\n",
        "        trainer.save()\n",
        "\n",
        "    wandb.log({\"train_loss\":train_loss,\n",
        "               \"nll\": nll,\n",
        "               \"learning_rate\": curr_lr\n",
        "              })\n",
        "\n",
        "### Finish your wandb run\n",
        "# run.finish()"
      ]
    },
    {
      "cell_type": "code",
      "execution_count": 22,
      "metadata": {
        "id": "5Oq8tLAo7jF_"
      },
      "outputs": [
        {
          "data": {
            "text/plain": [
              "97"
            ]
          },
          "execution_count": 22,
          "metadata": {},
          "output_type": "execute_result"
        }
      ],
      "source": [
        "torch.cuda.empty_cache()\n",
        "gc.collect()"
      ]
    },
    {
      "cell_type": "code",
      "execution_count": 23,
      "metadata": {
        "id": "i_gYqXq9Jgo1"
      },
      "outputs": [
        {
          "data": {
            "image/png": "[encoded data removed]",
            "text/plain": [
              "<Figure size 432x288 with 1 Axes>"
            ]
          },
          "metadata": {
            "needs_background": "light"
          },
          "output_type": "display_data"
        }
      ],
      "source": [
        "plt.figure()\n",
        "plt.plot(range(1, trainer.epochs + 1), trainer.train_losses, label='Training losses')\n",
        "plt.plot(range(1, trainer.epochs + 1), trainer.val_losses, label='Validation losses')\n",
        "plt.xlabel('Epochs')\n",
        "plt.ylabel('NLL')\n",
        "plt.legend()\n",
        "plt.show()"
      ]
    },
    {
      "cell_type": "markdown",
      "metadata": {
        "id": "vleoDhQe7jF_"
      },
      "source": [
        "# **Evaluation**"
      ]
    },
    {
      "cell_type": "markdown",
      "metadata": {
        "id": "BbDQm49BKrdd"
      },
      "source": [
        " - Now that you have trained your model and got satisfactory validation NLL on the single token prediction task, you can evaluate the generations you created too\n",
        " - We will use the perplexity metric to evaluate generations using a large language model available through the OpenAI API. Read the handout for instructions on how to sign up for the API and obtain and API key.\n",
        " - Once you add credits to your account, run this cell to get the perplexity.\n",
        " - You will submit this perplexity value for grading the generation component of this homework.\n",
        " - A perplexity of under **1400** will give you full credit on the generation part."
      ]
    },
    {
      "cell_type": "markdown",
      "metadata": {
        "id": "PvVGQNzUL3IK"
      },
      "source": [
        "Change only the **submission_run_id**, **submission_epoch**, and **api_key** in the following cell"
      ]
    },
    {
      "cell_type": "code",
      "execution_count": 24,
      "metadata": {
        "id": "qqJ9lf7W7jF_"
      },
      "outputs": [
        {
          "name": "stderr",
          "output_type": "stream",
          "text": [
            "  0%|          | 0/128 [00:00<?, ?it/s]"
          ]
        },
        {
          "name": "stderr",
          "output_type": "stream",
          "text": [
            "100%|██████████| 128/128 [00:24<00:00,  5.20it/s]"
          ]
        },
        {
          "name": "stdout",
          "output_type": "stream",
          "text": [
            "Your mean perplexity for generated sequences: 1300.4517978788508\n"
          ]
        },
        {
          "name": "stderr",
          "output_type": "stream",
          "text": [
            "\n"
          ]
        }
      ],
      "source": [
        "# DO NOT CHANGE THE CODE IN THIS CELL EXCEPT submission_run_id, submission_epoch, AND api_key\n",
        "# PLEASE BE HONEST IN REPORTING THE PERPLEXITY VALUE!\n",
        "# WE WILL RANDOMLY CHECK SOME SUBMISSIONS USING THE SAME CODE AS THIS AND A BIG DIFFERENCE IN PERPLEXITY WILL RESULT IN AN AIV.\n",
        "\n",
        "import openai\n",
        "\n",
        "# Add you submission_run_id and submission_epoch here --------------------------------------------------\n",
        "# Fill the run id and epoch number to be used for submission.\n",
        "# You will use the same run id and epoch number to generate the handin.\n",
        "\n",
        "submission_run_id = run_id # TODO\n",
        "submission_epoch = 24 # TODO\n",
        "\n",
        "# --------------------------------------------------------------\n",
        "\n",
        "n_tests = 128\n",
        "\n",
        "with open(os.path.join('./experiments', submission_run_id, 'generated-texts-{}-test.txt'.format(submission_epoch)), 'r', encoding='utf-8') as f:\n",
        "    generated = list(f)\n",
        "\n",
        "assert len(generated) == n_tests\n",
        "for item in generated:\n",
        "    assert type(item) is str\n",
        "\n",
        "parsed_generated = []\n",
        "\n",
        "for text in generated:\n",
        "    start_index = text.index(\"<sos>\")\n",
        "    temp = text[start_index+6:]\n",
        "    generation_start_index = temp.index(\"| \")\n",
        "    parsed_text = temp[:generation_start_index] + temp[generation_start_index+2:]\n",
        "    parsed_text = parsed_text.replace(\"<eol>\", \"\\n\")\n",
        "    parsed_generated.append(parsed_text)\n",
        "\n",
        "def perplexity(text, modelname):\n",
        "    \"\"\"Compute the perplexity of the provided text.\"\"\"\n",
        "    completion = openai.Completion.create(\n",
        "        model=modelname,\n",
        "        prompt=text,\n",
        "        logprobs=0,\n",
        "        max_tokens=0,\n",
        "        temperature=1.0,\n",
        "        echo=True)\n",
        "    token_logprobs = completion['choices'][0]['logprobs']['token_logprobs']\n",
        "    ll = np.mean([i for i in token_logprobs if i is not None])\n",
        "    ppl = np.exp(-ll)\n",
        "    return ppl\n",
        "\n",
        "# Add you API key here --------------------------------------------------\n",
        "# However, delete the key from the notebook before creating the handin.\n",
        "# REMEMBER: ALWAYS KEEP YOUR API KEYS AND SECRETS SECURE.\n",
        "\n",
        "openai.api_key = '' # TODO\n",
        "\n",
        "# --------------------------------------------------------------\n",
        "\n",
        "modelname = 'text-embedding-ada-002'\n",
        "\n",
        "perps = [perplexity(text, modelname) for text in tqdm(parsed_generated)]\n",
        "avg_perp = np.mean(perps)\n",
        "\n",
        "# Report this number when running the makefile to create the handin\n",
        "print(\"Your mean perplexity for generated sequences: {}\".format(avg_perp))"
      ]
    }
  ],
  "metadata": {
    "colab": {
      "collapsed_sections": [
        "EB2bOV3bzYLR",
        "WcWU0YlnzmVM",
        "DelhoytAQWQa",
        "TlWF_bpLznup",
        "Dfrf1FoSoAI0",
        "0fcxKXL0hrxX",
        "vleoDhQe7jF_",
        "BBqjqy-EyU27"
      ],
      "machine_shape": "hm",
      "provenance": [],
      "toc_visible": true
    },
    "deepnote": {},
    "deepnote_execution_queue": [],
    "deepnote_notebook_id": "989a3c3836794109ac641230122845a3",
    "gpuClass": "standard",
    "kernelspec": {
      "display_name": "Python 3 (ipykernel)",
      "language": "python",
      "name": "python3"
    },
    "language_info": {
      "codemirror_mode": {
        "name": "ipython",
        "version": 3
      },
      "file_extension": ".py",
      "mimetype": "text/x-python",
      "name": "python",
      "nbconvert_exporter": "python",
      "pygments_lexer": "ipython3",
      "version": "3.8.18"
    }
  },
  "nbformat": 4,
  "nbformat_minor": 0
}
