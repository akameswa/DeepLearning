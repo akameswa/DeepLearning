{
  "cells": [
    {
      "cell_type": "markdown",
      "metadata": {
        "id": "XBITN0M_LKds"
      },
      "source": [
        "# HW2P2: Face Classification and Verification\n"
      ]
    },
    {
      "cell_type": "markdown",
      "metadata": {
        "id": "yr-Mcx4Dsovv"
      },
      "source": [
        "This is the second homework in 11785: Introduction to Deep Learning consisting of two parts:\n",
        "*   Face Recognition: You will be writing your own CNN model to tackle the problem of classification, consisting of 7001 identities.\n",
        "*   Face Verification: You use the model trained for classification to evaluate the quality of its feature embeddings, by comparing the similarity of known and unknown identities.\n",
        "\n",
        "For this HW, you only have to write code to implement your model architecture. Everything else has been provided for you, on the pretext that most of your time will be used up in developing the suitable model architecture for achieving satisfactory performance."
      ]
    },
    {
      "cell_type": "markdown",
      "metadata": {
        "id": "veIqzuIGsov2"
      },
      "source": [
        "Common errors which you may face in this homeworks (because of the size of the model)\n",
        "\n",
        "\n",
        "*   CUDA Out of Memory (OOM): You can tackle this problem by (1) Reducing the batch size (2) Calling `torch.cuda.empty_cache()` and `gc.collect()` (3) Finally restarting the runtime\n",
        "\n"
      ]
    },
    {
      "cell_type": "markdown",
      "metadata": {
        "id": "p0cMmKuTswm6"
      },
      "source": [
        "# TODOs\n",
        "As you go, please read the code and keep an eye out for TODOs."
      ]
    },
    {
      "cell_type": "markdown",
      "metadata": {
        "id": "sI9o9SGuxXIY"
      },
      "source": [
        "**Structure of this notebook**:\n",
        "\n",
        "1. **Libraries** - just run it\n",
        "2. **Kaggle** - copy the code from HW1P2 and add a correct API key\n",
        "3. **Configs** - specify your configs\n",
        "4. **Dataset**\n",
        "  - **Datasets and Dataloaders** - it's already implemented, just specify your preferred augmentations/transformations\n",
        "  - **EDA and Viz** - just run it to check if your augmentations/transformations worked\n",
        "5. **Model Architecture** - implement and define your preferred model architecture\n",
        "6. **Loss, Optimizer, and Scheduler** - define your loss, optimizer, and a scheduler\n",
        "7. **Training and Validation Functions** - includes functions for both classification and verification tasks\n",
        "  - **Classification Task** - just run it\n",
        "  - **Verification Task** - just run it\n",
        "8. **Wandb** - add a correct API key\n",
        "9. **Experiments** - make changes if needed; it will show you train/val/test accuracy for both classification and verification. **Important**: make sure you save your best model checkpoints because models in this HW take a long time to get trained\n",
        "10. **Testing and Kaggle Submission** - just run it\n",
        "11. **Model Finetuning** - this part might help you get a higher score on the verification part\n",
        "  - **Model Implementations (CenterLoss, ArcFace, or SphereFace)** - please refer to the additional notebook and just copy the model from there\n",
        "  - **Model Definition (finetuning)** - you may reuse the code from the main part\n",
        "  - **Loss, Optimizer, and Scheduler Definition (finetuning)** - you may reuse the code from the main part\n",
        "  - **Training Function (finetuning)** - you may reuse the code from the main part\n",
        "  - **Wandb (finetuning)** - you may reuse the code from the main part\n",
        "  - **Experiments (finetuning)** - you may reuse the code from the main part\n",
        "\n",
        "Good luck!"
      ]
    },
    {
      "cell_type": "markdown",
      "metadata": {},
      "source": [
        "# How to run code?\n",
        "Run cells in chronological order.\n",
        "\n",
        "# Architectures tried\n",
        "1. CNN: \\\n",
        "        Transformations: None \\\n",
        "        Optimizer: SGD (momentum=0.9, weight_decay=1e-4) \\\n",
        "        Scheduler: ReduceLROnPlateau (factor=0.75, patience=1, min_lr=1e-4) \\\n",
        "        LR: 0.1 \\\n",
        "        Batch Size: 128 \\\n",
        "        Epochs: 80 \\\n",
        "        Validation Classification Accuracy: 69 \\\n",
        "        Validation Verification Accuracy: 23.33 \n",
        "2. ResNeXt: \\\n",
        "        Transformations: RandomHorizontalFlip(p=0.4), RandomPerspective(distortion_scale=0.25, p=0.4), \\\n",
        "                         ColorJitter(brightness=0.25, contrast=0.25, saturation=0.25), \\\n",
        "                         RandomErasing(p=0.2, scale=(0.02, 0.1)), Normalize(mean=[0.5103, 0.4014, 0.3509], std=[0.2708, 0.2363, 0.2226]), \\\n",
        "        Optimizer: SGD (momentum=0.9, weight_decay=1e-4) \\\n",
        "        Scheduler: ReduceLROnPlateau (factor=0.75, patience=1, min_lr=1e-4) \\\n",
        "        LR: 0.1 \\\n",
        "        Batch Size: 128 \\\n",
        "        Epochs: 100 \\\n",
        "        Validation Classification Accuracy: 86.74 \\\n",
        "        Validation Verification Accuracy: 2.22      \n",
        "3. ConvNeXt: \\\n",
        "        Transformations: RandomHorizontalFlip(p=0.4), RandomPerspective(distortion_scale=0.25, p=0.4), \\\n",
        "                         ColorJitter(brightness=0.25, contrast=0.25, saturation=0.25), \\\n",
        "                         RandomErasing(p=0.2, scale=(0.02, 0.1)), Normalize(mean=[0.5103, 0.4014, 0.3509], std=[0.2708, 0.2363, 0.2226]), \\\n",
        "        Optimizer: AdamW (weight_decay=1e-3) \\\n",
        "        Scheduler: ReduceLROnPlateau (factor=0.75, patience=1, min_lr=1e-4) \\\n",
        "        LR: 0.001 \\\n",
        "        Batch Size: 128 \\\n",
        "        Epochs: 100 \\\n",
        "        Validation Classification Accuracy: 88.33 \\\n",
        "        Validation Verification Accuracy: 49.44    "
      ]
    },
    {
      "cell_type": "markdown",
      "metadata": {
        "id": "BdoDIKWOMF59"
      },
      "source": [
        "# Libraries"
      ]
    },
    {
      "cell_type": "code",
      "execution_count": null,
      "metadata": {
        "colab": {
          "base_uri": "https://localhost:8080/"
        },
        "execution": {
          "iopub.execute_input": "2024-02-21T21:49:27.789826Z",
          "iopub.status.busy": "2024-02-21T21:49:27.789013Z",
          "iopub.status.idle": "2024-02-21T21:49:28.842709Z",
          "shell.execute_reply": "2024-02-21T21:49:28.841717Z",
          "shell.execute_reply.started": "2024-02-21T21:49:27.789788Z"
        },
        "id": "Jza7lwiScUhb",
        "outputId": "135d10bb-1f30-4c59-c039-4c64f3587582",
        "trusted": true
      },
      "outputs": [
        {
          "name": "stdout",
          "output_type": "stream",
          "text": [
            "Wed Mar  6 03:57:11 2024       \n",
            "+---------------------------------------------------------------------------------------+\n",
            "| NVIDIA-SMI 535.104.05             Driver Version: 535.104.05   CUDA Version: 12.2     |\n",
            "|-----------------------------------------+----------------------+----------------------+\n",
            "| GPU  Name                 Persistence-M | Bus-Id        Disp.A | Volatile Uncorr. ECC |\n",
            "| Fan  Temp   Perf          Pwr:Usage/Cap |         Memory-Usage | GPU-Util  Compute M. |\n",
            "|                                         |                      |               MIG M. |\n",
            "|=========================================+======================+======================|\n",
            "|   0  Tesla V100-SXM2-16GB           Off | 00000000:00:04.0 Off |                    0 |\n",
            "| N/A   35C    P0              25W / 300W |      0MiB / 16384MiB |      0%      Default |\n",
            "|                                         |                      |                  N/A |\n",
            "+-----------------------------------------+----------------------+----------------------+\n",
            "                                                                                         \n",
            "+---------------------------------------------------------------------------------------+\n",
            "| Processes:                                                                            |\n",
            "|  GPU   GI   CI        PID   Type   Process name                            GPU Memory |\n",
            "|        ID   ID                                                             Usage      |\n",
            "|=======================================================================================|\n",
            "|  No running processes found                                                           |\n",
            "+---------------------------------------------------------------------------------------+\n"
          ]
        }
      ],
      "source": [
        "# !nvidia-smi # Run this to see what GPU you have"
      ]
    },
    {
      "cell_type": "markdown",
      "metadata": {
        "id": "6gt7xVl4-UM_"
      },
      "source": [
        "#NOTE: RESTART THE RUN TIME AFTER RUNNING THE THE CELL BELOW"
      ]
    },
    {
      "cell_type": "code",
      "execution_count": null,
      "metadata": {
        "execution": {
          "iopub.execute_input": "2024-02-21T21:49:29.861095Z",
          "iopub.status.busy": "2024-02-21T21:49:29.860304Z",
          "iopub.status.idle": "2024-02-21T21:49:57.121876Z",
          "shell.execute_reply": "2024-02-21T21:49:57.120908Z",
          "shell.execute_reply.started": "2024-02-21T21:49:29.861033Z"
        },
        "id": "bTxfd_nqFnL9",
        "trusted": true
      },
      "outputs": [],
      "source": [
        "# Install the necessary packages. Very important: Please restart your session in Colab/Local Machine\n",
        "# You can restart your session in colab by going to Runtime and then clicking restart session\n",
        "# !pip install wandb --quiet\n",
        "# !pip install torch==1.12.1 torchvision==0.13.1 torchaudio==0.12.1\n",
        "# !pip install torchsummary"
      ]
    },
    {
      "cell_type": "code",
      "execution_count": null,
      "metadata": {
        "colab": {
          "base_uri": "https://localhost:8080/"
        },
        "execution": {
          "iopub.execute_input": "2024-02-21T21:49:57.124202Z",
          "iopub.status.busy": "2024-02-21T21:49:57.123884Z",
          "iopub.status.idle": "2024-02-21T21:50:04.092402Z",
          "shell.execute_reply": "2024-02-21T21:50:04.091440Z",
          "shell.execute_reply.started": "2024-02-21T21:49:57.124173Z"
        },
        "id": "jwLEd0gdPbSc",
        "outputId": "250b0288-0245-461a-ece7-e0e961cf9aa9",
        "trusted": true
      },
      "outputs": [
        {
          "name": "stdout",
          "output_type": "stream",
          "text": [
            "Device:  cuda\n"
          ]
        }
      ],
      "source": [
        "# Import the important packages for this Homework. Feel free to add anything here you need.\n",
        "import torch\n",
        "import torch.nn as nn\n",
        "import torch.nn.functional as F\n",
        "from torchsummary import summary\n",
        "from torchvision.ops import stochastic_depth\n",
        "import torchvision # This library is used for image-based operations (Augmentations)\n",
        "import os\n",
        "import gc\n",
        "from tqdm import tqdm\n",
        "from PIL import Image\n",
        "import numpy as np\n",
        "import pandas as pd\n",
        "from sklearn.metrics import accuracy_score\n",
        "import glob\n",
        "import wandb\n",
        "import matplotlib.pyplot as plt\n",
        "DEVICE = 'cuda' if torch.cuda.is_available() else 'cpu'\n",
        "print(\"Device: \", DEVICE)"
      ]
    },
    {
      "cell_type": "markdown",
      "metadata": {
        "id": "scOnMklwWBY6"
      },
      "source": [
        "# Kaggle"
      ]
    },
    {
      "cell_type": "code",
      "execution_count": null,
      "metadata": {
        "execution": {
          "iopub.execute_input": "2024-02-21T21:50:04.101699Z",
          "iopub.status.busy": "2024-02-21T21:50:04.101328Z",
          "iopub.status.idle": "2024-02-21T21:50:11.023957Z",
          "shell.execute_reply": "2024-02-21T21:50:11.022812Z",
          "shell.execute_reply.started": "2024-02-21T21:50:04.101666Z"
        },
        "id": "6BksgPdkQwwb",
        "trusted": true
      },
      "outputs": [],
      "source": [
        "# TODO: Use the same Kaggle code from HW1P2\n",
        "!pip install --upgrade --force-reinstall --no-deps kaggle==1.5.8\n",
        "!mkdir /root/.kaggle\n",
        "\n",
        "with open(\"/root/.kaggle/kaggle.json\", \"w+\") as f:\n",
        "    f.write('{\"username\":\"\",\"key\":\"\"}')\n",
        "    # Put your kaggle username & key here\n",
        "\n",
        "!chmod 600 /root/.kaggle/kaggle.json"
      ]
    },
    {
      "cell_type": "code",
      "execution_count": null,
      "metadata": {
        "execution": {
          "iopub.execute_input": "2024-02-21T21:50:11.026018Z",
          "iopub.status.busy": "2024-02-21T21:50:11.025629Z",
          "iopub.status.idle": "2024-02-21T21:50:11.031204Z",
          "shell.execute_reply": "2024-02-21T21:50:11.030288Z",
          "shell.execute_reply.started": "2024-02-21T21:50:11.025981Z"
        },
        "id": "q9BG5Gr3YIVi",
        "trusted": true
      },
      "outputs": [],
      "source": [
        "# Reminder: Make sure you have connected your kaggle API before running this block\n",
        "!mkdir '/content/data'\n",
        "\n",
        "!kaggle competitions download -c 11785-hw2p2-face-recognition\n",
        "!unzip -qo '11785-hw2p2-face-recognition.zip' -d '/content/data'\n",
        "\n",
        "!kaggle competitions download -c 11785-hw2p2-face-verification\n",
        "!unzip -qo '11785-hw2p2-face-verification.zip' -d '/content/data'"
      ]
    },
    {
      "cell_type": "markdown",
      "metadata": {
        "id": "O68hT27SXClj"
      },
      "source": [
        "# Configs"
      ]
    },
    {
      "cell_type": "code",
      "execution_count": null,
      "metadata": {
        "execution": {
          "iopub.execute_input": "2024-02-21T21:54:06.280789Z",
          "iopub.status.busy": "2024-02-21T21:54:06.279995Z",
          "iopub.status.idle": "2024-02-21T21:54:06.286185Z",
          "shell.execute_reply": "2024-02-21T21:54:06.284981Z",
          "shell.execute_reply.started": "2024-02-21T21:54:06.280754Z"
        },
        "id": "S7qpMxG0XCJz",
        "trusted": true
      },
      "outputs": [],
      "source": [
        "config = {\n",
        "    'batch_size': 128, # Increase this if your GPU can handle it\n",
        "    'lr': 0.001,\n",
        "    'epochs': 100,     # 20 epochs is recommended ONLY for the early submission - you will have to train for much longer typically.\n",
        "}"
      ]
    },
    {
      "cell_type": "markdown",
      "metadata": {
        "id": "sSeiKHYrM-6b"
      },
      "source": [
        "# Dataset"
      ]
    },
    {
      "cell_type": "markdown",
      "metadata": {
        "id": "oivdYZNztqBU"
      },
      "source": [
        "## Datasets and Dataloaders"
      ]
    },
    {
      "cell_type": "code",
      "execution_count": null,
      "metadata": {
        "execution": {
          "iopub.execute_input": "2024-02-21T21:56:43.045037Z",
          "iopub.status.busy": "2024-02-21T21:56:43.044267Z",
          "iopub.status.idle": "2024-02-21T21:57:09.664468Z",
          "shell.execute_reply": "2024-02-21T21:57:09.663607Z",
          "shell.execute_reply.started": "2024-02-21T21:56:43.045003Z"
        },
        "id": "tmRX5omaNDEZ",
        "trusted": true
      },
      "outputs": [],
      "source": [
        "# --------------------------------------------------- #\n",
        "\n",
        "# Data paths\n",
        "\n",
        "DATA_DIR    = \"/content/data/11-785-s24-hw2p2-classification\" # TODO: Path where you have downloaded the classificaation data\n",
        "TRAIN_DIR   = os.path.join(DATA_DIR, \"train\")\n",
        "VAL_DIR     = os.path.join(DATA_DIR, \"dev\")\n",
        "TEST_DIR    = os.path.join(DATA_DIR, \"test\")\n",
        "\n",
        "# --------------------------------------------------- #\n",
        "\n",
        "# Transformations/augmentations of the Train dataset\n",
        "\n",
        "\"\"\"\n",
        "Refer https://pytorch.org/vision/stable/transforms.html\n",
        "Implementing the right train transforms/augmentation methods is key to improving performance.\n",
        "Most torchvision transforms are done on PIL images. So you convert it into a tensor at the end with ToTensor()\n",
        "But there are some transforms which are performed after ToTensor() : e.g - Normalization\n",
        "#Normalization Tip - Do not blindly use normalization that is not suitable for this dataset\n",
        "\"\"\"\n",
        "mean = [0.5103, 0.4014, 0.3509]\n",
        "std  = [0.2708, 0.2363, 0.2226]\n",
        "\n",
        "train_transforms = torchvision.transforms.Compose([\n",
        "    torchvision.transforms.RandomHorizontalFlip(p=0.4),\n",
        "    torchvision.transforms.ColorJitter(brightness=0.25, contrast=0.25, saturation=0.25),\n",
        "    torchvision.transforms.RandomPerspective(distortion_scale=0.25, p=0.4),\n",
        "    torchvision.transforms.ToTensor(),\n",
        "    torchvision.transforms.RandomErasing(p=0.2, scale=(0.02, 0.1)),\n",
        "    torchvision.transforms.Normalize(mean=mean, std=std),\n",
        "])\n",
        "# --------------------------------------------------- #\n",
        "\n",
        "# Transformations/augmentations of the Val dataset\n",
        "\n",
        "\"\"\"\n",
        "You should NOT have data augmentation on the validation set. Why?\n",
        "\"\"\"\n",
        "\n",
        "valid_transforms = torchvision.transforms.Compose([\n",
        "    torchvision.transforms.ToTensor(),\n",
        "    torchvision.transforms.Normalize(mean=mean, std=std),\n",
        "])\n",
        "\n",
        "# --------------------------------------------------- #\n",
        "\n",
        "# Initializing the train and val datasets\n",
        "\n",
        "train_dataset   = torchvision.datasets.ImageFolder(TRAIN_DIR, transform = train_transforms)\n",
        "valid_dataset   = torchvision.datasets.ImageFolder(VAL_DIR, transform = valid_transforms)"
      ]
    },
    {
      "cell_type": "code",
      "execution_count": null,
      "metadata": {
        "execution": {
          "iopub.execute_input": "2024-02-21T22:36:05.599458Z",
          "iopub.status.busy": "2024-02-21T22:36:05.598595Z",
          "iopub.status.idle": "2024-02-21T22:36:05.607164Z",
          "shell.execute_reply": "2024-02-21T22:36:05.605981Z",
          "shell.execute_reply.started": "2024-02-21T22:36:05.599426Z"
        },
        "id": "ow5_C3Y-hsDv",
        "trusted": true
      },
      "outputs": [],
      "source": [
        "# --------------------------------------------------- #\n",
        "\n",
        "# Initializing the train and val dataloaders\n",
        "\n",
        "train_loader = torch.utils.data.DataLoader(dataset       = train_dataset,\n",
        "                                           batch_size    = config['batch_size'],\n",
        "                                           shuffle       = True,\n",
        "                                           num_workers   = 4, # Uncomment this line if you want to increase your num workers\n",
        "                                           pin_memory    = True)\n",
        "\n",
        "valid_loader = torch.utils.data.DataLoader(dataset       = valid_dataset,\n",
        "                                           batch_size    = config['batch_size'],\n",
        "                                           shuffle       = False,\n",
        "                                           num_workers   = 2 # Uncomment this line if you want to increase your num workers\n",
        "                                           )"
      ]
    },
    {
      "cell_type": "code",
      "execution_count": null,
      "metadata": {
        "execution": {
          "iopub.execute_input": "2024-02-21T21:57:26.590034Z",
          "iopub.status.busy": "2024-02-21T21:57:26.589643Z",
          "iopub.status.idle": "2024-02-21T21:57:27.300221Z",
          "shell.execute_reply": "2024-02-21T21:57:27.299408Z",
          "shell.execute_reply.started": "2024-02-21T21:57:26.590006Z"
        },
        "id": "SqSR063BGE2e",
        "trusted": true
      },
      "outputs": [],
      "source": [
        "# --------------------------------------------------- #\n",
        "\n",
        "# Test dataset class\n",
        "\n",
        "\"\"\"\n",
        "You can do this with ImageFolder as well, but it requires some tweaking\n",
        "\"\"\"\n",
        "\n",
        "class TestDataset(torch.utils.data.Dataset):\n",
        "\n",
        "    def __init__(self, data_dir, transforms):\n",
        "        self.data_dir   = data_dir\n",
        "        self.transforms = transforms\n",
        "\n",
        "        # This one-liner basically generates a sorted list of full paths to each image in the test directory\n",
        "        self.img_paths  = list(map(lambda fname: os.path.join(self.data_dir, fname), sorted(os.listdir(self.data_dir))))\n",
        "\n",
        "    def __len__(self):\n",
        "        return len(self.img_paths)\n",
        "\n",
        "    def __getitem__(self, idx):\n",
        "        return self.transforms(Image.open(self.img_paths[idx]))\n",
        "\n",
        "# --------------------------------------------------- #\n",
        "\n",
        "# Initializing the test dataset\n",
        "\n",
        "\"\"\"\n",
        "Why are we using val_transforms for Test Data?\n",
        "\"\"\"\n",
        "\n",
        "test_dataset = TestDataset(TEST_DIR, transforms = valid_transforms)\n",
        "\n",
        "# --------------------------------------------------- #\n",
        "\n",
        "# Initializing the test dataloader\n",
        "\n",
        "test_loader = torch.utils.data.DataLoader(dataset     = test_dataset,\n",
        "                                          batch_size  = config['batch_size'],\n",
        "                                          shuffle     = False,\n",
        "                                          drop_last   = False,\n",
        "                                          num_workers = 2 # Uncomment this line if you want to increase your num workers\n",
        "                                          )"
      ]
    },
    {
      "cell_type": "markdown",
      "metadata": {
        "id": "zs2Xw_tl0IQ8"
      },
      "source": [
        "## EDA and Viz"
      ]
    },
    {
      "cell_type": "code",
      "execution_count": null,
      "metadata": {
        "colab": {
          "base_uri": "https://localhost:8080/"
        },
        "execution": {
          "iopub.execute_input": "2024-02-21T22:36:12.320873Z",
          "iopub.status.busy": "2024-02-21T22:36:12.320089Z",
          "iopub.status.idle": "2024-02-21T22:36:12.345218Z",
          "shell.execute_reply": "2024-02-21T22:36:12.344202Z",
          "shell.execute_reply.started": "2024-02-21T22:36:12.320838Z"
        },
        "id": "x4t8eU9gY0Jy",
        "outputId": "33379823-e827-4b71-c0fa-b72c80a4b6cc",
        "trusted": true
      },
      "outputs": [
        {
          "name": "stdout",
          "output_type": "stream",
          "text": [
            "Number of classes    :  7001\n",
            "No. of train images  :  140020\n",
            "Shape of image       :  torch.Size([3, 224, 224])\n",
            "Batch size           :  128\n",
            "Train batches        :  1094\n",
            "Val batches          :  274\n"
          ]
        }
      ],
      "source": [
        "# Double-check your dataset/dataloaders work as expected\n",
        "\n",
        "print(\"Number of classes    : \", len(train_dataset.classes))\n",
        "print(\"No. of train images  : \", train_dataset.__len__())\n",
        "print(\"Shape of image       : \", train_dataset[0][0].shape)\n",
        "print(\"Batch size           : \", config['batch_size'])\n",
        "print(\"Train batches        : \", train_loader.__len__())\n",
        "print(\"Val batches          : \", valid_loader.__len__())\n",
        "\n",
        "# Feel free to print more things if needed"
      ]
    },
    {
      "cell_type": "code",
      "execution_count": null,
      "metadata": {
        "execution": {
          "iopub.execute_input": "2024-02-21T21:57:29.305193Z",
          "iopub.status.busy": "2024-02-21T21:57:29.304766Z",
          "iopub.status.idle": "2024-02-21T21:57:41.364860Z",
          "shell.execute_reply": "2024-02-21T21:57:41.363970Z",
          "shell.execute_reply.started": "2024-02-21T21:57:29.305164Z"
        },
        "id": "xIoRUzCbz85y",
        "trusted": true
      },
      "outputs": [],
      "source": [
        "# # Visualize a few images in the dataset\n",
        "\n",
        "# \"\"\"\n",
        "# You can write your own code, and you don't need to understand the code\n",
        "# It is highly recommended that you visualize your data augmentation as sanity check\n",
        "# \"\"\"\n",
        "\n",
        "# r, c    = [5, 5]\n",
        "# fig, ax = plt.subplots(r, c, figsize= (15, 15))\n",
        "\n",
        "# k       = 0\n",
        "# dtl     = torch.utils.data.DataLoader(\n",
        "#     dataset     = torchvision.datasets.ImageFolder(TRAIN_DIR, transform= train_transforms), # dont wanna see the images with transforms\n",
        "#     batch_size  = config['batch_size'],\n",
        "#     shuffle     = True)\n",
        "\n",
        "# for data in dtl:\n",
        "#     x, y = data\n",
        "\n",
        "#     for i in range(r):\n",
        "#         for j in range(c):\n",
        "#             img = x[k].numpy().transpose(1, 2, 0)\n",
        "#             ax[i, j].imshow(img)\n",
        "#             ax[i, j].axis('off')\n",
        "#             k+=1\n",
        "#     break\n",
        "\n",
        "# del dtl"
      ]
    },
    {
      "cell_type": "markdown",
      "metadata": {
        "id": "mIqmojPaWD0H"
      },
      "source": [
        "# Model Architecture"
      ]
    },
    {
      "cell_type": "markdown",
      "metadata": {
        "id": "kyA1rPcdgvBr"
      },
      "source": [
        "FAQ:\n",
        "\n",
        "**What's a very low early deadline architecture (mandatory early submission)**?\n",
        "\n",
        "- The very low early deadline architecture is a 5-layer CNN. Keep in mind the parameter limit is 18M.\n",
        "- The first convolutional layer has 64 channels, kernel size 7, and stride 4. The next four have 128, 256, 512 and 1024 channels. Each have kernel size 3 and stride 2. Documentation to make convolutional layers: https://pytorch.org/docs/stable/generated/torch.nn.Conv2d.html\n",
        "- Think about strided convolutions from the lecture, as convolutions with stride = 1 and downsampling. For strided convolution, what padding do you need for preserving the spatial resolution? (Hint => padding = kernel_size // 2) - Think why?\n",
        "- Each convolutional layer is accompanied by a Batchnorm and ReLU layer.\n",
        "- Finally, you want to average pool over the spatial dimensions to reduce them to 1 x 1. Use AdaptiveAvgPool2d. Documentation for AdaptiveAvgPool2d: https://pytorch.org/docs/stable/generated/torch.nn.AdaptiveAvgPool2d.html\n",
        "- Then, remove (Flatten?) these trivial 1x1 dimensions away.\n",
        "Look through https://pytorch.org/docs/stable/nn.html\n",
        "\n",
        "\n",
        "**Why does a very simple network have 4 convolutions**?\n",
        "\n",
        "Input images are 224x224. Note that each of these convolutions downsample. Downsampling 2x effectively doubles the receptive field, increasing the spatial region each pixel extracts features from. Downsampling 32x is standard for most image models.\n",
        "\n",
        "**Why does a very simple network have high channel sizes**?\n",
        "\n",
        "Every time you downsample 2x, you do 4x less computation (at same channel size). To maintain the same level of computation, you 2x increase # of channels, which increases computation by 4x. So, balances out to same computation. Another intuition is - as you downsample, you lose spatial information. We want to preserve some of it in the channel dimension.\n",
        "\n",
        "**What is return_feats?**\n",
        "\n",
        "It essentially returns the second-to-last-layer features of a given image. It's a \"feature encoding\" of the input image, and you can use it for the verification task. You would use the outputs of the final classification layer for the classification task. You might also find that the classification outputs are sometimes better for verification too - try both."
      ]
    },
    {
      "cell_type": "code",
      "execution_count": null,
      "metadata": {
        "id": "mZIb3UYAUSuB"
      },
      "outputs": [],
      "source": [
        "from torchvision.ops import StochasticDepth\n",
        "\n",
        "# https://github.com/facebookresearch/ConvNeXt-V2\n",
        "\n",
        "class Block(nn.Module):\n",
        "    def __init__(self, dim, drop_path=0., layer_scale_init_value=1e-6, expansion=4):\n",
        "        super(Block, self).__init__()\n",
        "        self.dwconv = nn.Conv2d(dim, dim, kernel_size=7, stride=1, padding=3, groups=dim, bias=True)\n",
        "        self.norm = nn.BatchNorm2d(dim)\n",
        "        self.pwconv_expand = nn.Conv2d(dim, dim * expansion, kernel_size=1)\n",
        "        self.act = nn.GELU()\n",
        "        self.pwconv_shrink = nn.Conv2d(dim * expansion, dim, kernel_size=1)\n",
        "        self.gamma = nn.Parameter(torch.ones(dim, 1, 1) * layer_scale_init_value)\n",
        "        self.dpth = StochasticDepth(drop_path, mode='row')\n",
        "\n",
        "    def forward(self, x):\n",
        "        residual = x\n",
        "        x = self.dwconv(x)\n",
        "        x = self.norm(x)\n",
        "        x = self.pwconv_expand(x)\n",
        "        x = self.act(x)\n",
        "        x = self.pwconv_shrink(x)\n",
        "        x = self.gamma * x\n",
        "        x = self.dpth(x)\n",
        "        x = residual + x\n",
        "        return x\n",
        "\n",
        "class ConvNeXt(nn.Module):\n",
        "    def __init__(self, in_chans=3, num_classes=7001, depths=[3, 9, 3], dims=[125, 313, 500], drop_path_rate=0., layer_scale_init_value=1e-6):\n",
        "        super(ConvNeXt, self).__init__()\n",
        "        self.downsample_layers = nn.ModuleList([\n",
        "            nn.Sequential(\n",
        "                nn.Conv2d(in_chans if i == 0 else dims[i-1], dims[i], kernel_size=4 if i == 0 else 2, stride=4 if i == 0 else 2, padding=0 if i == 0 else 1),\n",
        "                nn.BatchNorm2d(dims[i])\n",
        "            ) for i in range(3)\n",
        "        ])\n",
        "        self.stages = nn.ModuleList([\n",
        "            nn.Sequential(\n",
        "                *[Block(dim=dims[i], drop_path=drop_path_rate * j / (sum(depths)-1), layer_scale_init_value=layer_scale_init_value, expansion=4) for j in range(depths[i])]\n",
        "            ) for i in range(3)\n",
        "        ])\n",
        "        self.avgpool = nn.AdaptiveAvgPool2d((1,1))\n",
        "        self.head = nn.Linear(dims[-1], num_classes)\n",
        "\n",
        "    def forward_features(self, x):\n",
        "        for downsample, stage in zip(self.downsample_layers, self.stages):\n",
        "            x = stage(downsample(x))\n",
        "        x = self.avgpool(x)\n",
        "        feats = torch.flatten(x, start_dim = 1)\n",
        "        return feats\n",
        "\n",
        "    def forward(self, x, return_feats=False):\n",
        "        x = self.forward_features(x)\n",
        "        if return_feats:\n",
        "            return x\n",
        "        else:\n",
        "            return self.head(x)\n"
      ]
    },
    {
      "cell_type": "code",
      "execution_count": null,
      "metadata": {
        "colab": {
          "base_uri": "https://localhost:8080/"
        },
        "execution": {
          "iopub.execute_input": "2024-02-21T22:36:25.631880Z",
          "iopub.status.busy": "2024-02-21T22:36:25.631131Z",
          "iopub.status.idle": "2024-02-21T22:36:25.929479Z",
          "shell.execute_reply": "2024-02-21T22:36:25.928393Z",
          "shell.execute_reply.started": "2024-02-21T22:36:25.631842Z"
        },
        "id": "ltc_g4CjhsDw",
        "outputId": "1068f532-dadd-4d31-f972-8f06c8c6168a",
        "trusted": true
      },
      "outputs": [
        {
          "name": "stdout",
          "output_type": "stream",
          "text": [
            "----------------------------------------------------------------\n",
            "        Layer (type)               Output Shape         Param #\n",
            "================================================================\n",
            "            Conv2d-1          [-1, 125, 56, 56]           6,125\n",
            "       BatchNorm2d-2          [-1, 125, 56, 56]             250\n",
            "            Conv2d-3          [-1, 125, 56, 56]           6,250\n",
            "       BatchNorm2d-4          [-1, 125, 56, 56]             250\n",
            "            Conv2d-5          [-1, 500, 56, 56]          63,000\n",
            "              GELU-6          [-1, 500, 56, 56]               0\n",
            "            Conv2d-7          [-1, 125, 56, 56]          62,625\n",
            "   StochasticDepth-8          [-1, 125, 56, 56]               0\n",
            "             Block-9          [-1, 125, 56, 56]               0\n",
            "           Conv2d-10          [-1, 125, 56, 56]           6,250\n",
            "      BatchNorm2d-11          [-1, 125, 56, 56]             250\n",
            "           Conv2d-12          [-1, 500, 56, 56]          63,000\n",
            "             GELU-13          [-1, 500, 56, 56]               0\n",
            "           Conv2d-14          [-1, 125, 56, 56]          62,625\n",
            "  StochasticDepth-15          [-1, 125, 56, 56]               0\n",
            "            Block-16          [-1, 125, 56, 56]               0\n",
            "           Conv2d-17          [-1, 125, 56, 56]           6,250\n",
            "      BatchNorm2d-18          [-1, 125, 56, 56]             250\n",
            "           Conv2d-19          [-1, 500, 56, 56]          63,000\n",
            "             GELU-20          [-1, 500, 56, 56]               0\n",
            "           Conv2d-21          [-1, 125, 56, 56]          62,625\n",
            "  StochasticDepth-22          [-1, 125, 56, 56]               0\n",
            "            Block-23          [-1, 125, 56, 56]               0\n",
            "           Conv2d-24          [-1, 313, 29, 29]         156,813\n",
            "      BatchNorm2d-25          [-1, 313, 29, 29]             626\n",
            "           Conv2d-26          [-1, 313, 29, 29]          15,650\n",
            "      BatchNorm2d-27          [-1, 313, 29, 29]             626\n",
            "           Conv2d-28         [-1, 1252, 29, 29]         393,128\n",
            "             GELU-29         [-1, 1252, 29, 29]               0\n",
            "           Conv2d-30          [-1, 313, 29, 29]         392,189\n",
            "  StochasticDepth-31          [-1, 313, 29, 29]               0\n",
            "            Block-32          [-1, 313, 29, 29]               0\n",
            "           Conv2d-33          [-1, 313, 29, 29]          15,650\n",
            "      BatchNorm2d-34          [-1, 313, 29, 29]             626\n",
            "           Conv2d-35         [-1, 1252, 29, 29]         393,128\n",
            "             GELU-36         [-1, 1252, 29, 29]               0\n",
            "           Conv2d-37          [-1, 313, 29, 29]         392,189\n",
            "  StochasticDepth-38          [-1, 313, 29, 29]               0\n",
            "            Block-39          [-1, 313, 29, 29]               0\n",
            "           Conv2d-40          [-1, 313, 29, 29]          15,650\n",
            "      BatchNorm2d-41          [-1, 313, 29, 29]             626\n",
            "           Conv2d-42         [-1, 1252, 29, 29]         393,128\n",
            "             GELU-43         [-1, 1252, 29, 29]               0\n",
            "           Conv2d-44          [-1, 313, 29, 29]         392,189\n",
            "  StochasticDepth-45          [-1, 313, 29, 29]               0\n",
            "            Block-46          [-1, 313, 29, 29]               0\n",
            "           Conv2d-47          [-1, 313, 29, 29]          15,650\n",
            "      BatchNorm2d-48          [-1, 313, 29, 29]             626\n",
            "           Conv2d-49         [-1, 1252, 29, 29]         393,128\n",
            "             GELU-50         [-1, 1252, 29, 29]               0\n",
            "           Conv2d-51          [-1, 313, 29, 29]         392,189\n",
            "  StochasticDepth-52          [-1, 313, 29, 29]               0\n",
            "            Block-53          [-1, 313, 29, 29]               0\n",
            "           Conv2d-54          [-1, 313, 29, 29]          15,650\n",
            "      BatchNorm2d-55          [-1, 313, 29, 29]             626\n",
            "           Conv2d-56         [-1, 1252, 29, 29]         393,128\n",
            "             GELU-57         [-1, 1252, 29, 29]               0\n",
            "           Conv2d-58          [-1, 313, 29, 29]         392,189\n",
            "  StochasticDepth-59          [-1, 313, 29, 29]               0\n",
            "            Block-60          [-1, 313, 29, 29]               0\n",
            "           Conv2d-61          [-1, 313, 29, 29]          15,650\n",
            "      BatchNorm2d-62          [-1, 313, 29, 29]             626\n",
            "           Conv2d-63         [-1, 1252, 29, 29]         393,128\n",
            "             GELU-64         [-1, 1252, 29, 29]               0\n",
            "           Conv2d-65          [-1, 313, 29, 29]         392,189\n",
            "  StochasticDepth-66          [-1, 313, 29, 29]               0\n",
            "            Block-67          [-1, 313, 29, 29]               0\n",
            "           Conv2d-68          [-1, 313, 29, 29]          15,650\n",
            "      BatchNorm2d-69          [-1, 313, 29, 29]             626\n",
            "           Conv2d-70         [-1, 1252, 29, 29]         393,128\n",
            "             GELU-71         [-1, 1252, 29, 29]               0\n",
            "           Conv2d-72          [-1, 313, 29, 29]         392,189\n",
            "  StochasticDepth-73          [-1, 313, 29, 29]               0\n",
            "            Block-74          [-1, 313, 29, 29]               0\n",
            "           Conv2d-75          [-1, 313, 29, 29]          15,650\n",
            "      BatchNorm2d-76          [-1, 313, 29, 29]             626\n",
            "           Conv2d-77         [-1, 1252, 29, 29]         393,128\n",
            "             GELU-78         [-1, 1252, 29, 29]               0\n",
            "           Conv2d-79          [-1, 313, 29, 29]         392,189\n",
            "  StochasticDepth-80          [-1, 313, 29, 29]               0\n",
            "            Block-81          [-1, 313, 29, 29]               0\n",
            "           Conv2d-82          [-1, 313, 29, 29]          15,650\n",
            "      BatchNorm2d-83          [-1, 313, 29, 29]             626\n",
            "           Conv2d-84         [-1, 1252, 29, 29]         393,128\n",
            "             GELU-85         [-1, 1252, 29, 29]               0\n",
            "           Conv2d-86          [-1, 313, 29, 29]         392,189\n",
            "  StochasticDepth-87          [-1, 313, 29, 29]               0\n",
            "            Block-88          [-1, 313, 29, 29]               0\n",
            "           Conv2d-89          [-1, 500, 15, 15]         626,500\n",
            "      BatchNorm2d-90          [-1, 500, 15, 15]           1,000\n",
            "           Conv2d-91          [-1, 500, 15, 15]          25,000\n",
            "      BatchNorm2d-92          [-1, 500, 15, 15]           1,000\n",
            "           Conv2d-93         [-1, 2000, 15, 15]       1,002,000\n",
            "             GELU-94         [-1, 2000, 15, 15]               0\n",
            "           Conv2d-95          [-1, 500, 15, 15]       1,000,500\n",
            "  StochasticDepth-96          [-1, 500, 15, 15]               0\n",
            "            Block-97          [-1, 500, 15, 15]               0\n",
            "           Conv2d-98          [-1, 500, 15, 15]          25,000\n",
            "      BatchNorm2d-99          [-1, 500, 15, 15]           1,000\n",
            "          Conv2d-100         [-1, 2000, 15, 15]       1,002,000\n",
            "            GELU-101         [-1, 2000, 15, 15]               0\n",
            "          Conv2d-102          [-1, 500, 15, 15]       1,000,500\n",
            " StochasticDepth-103          [-1, 500, 15, 15]               0\n",
            "           Block-104          [-1, 500, 15, 15]               0\n",
            "          Conv2d-105          [-1, 500, 15, 15]          25,000\n",
            "     BatchNorm2d-106          [-1, 500, 15, 15]           1,000\n",
            "          Conv2d-107         [-1, 2000, 15, 15]       1,002,000\n",
            "            GELU-108         [-1, 2000, 15, 15]               0\n",
            "          Conv2d-109          [-1, 500, 15, 15]       1,000,500\n",
            " StochasticDepth-110          [-1, 500, 15, 15]               0\n",
            "           Block-111          [-1, 500, 15, 15]               0\n",
            "AdaptiveAvgPool2d-112            [-1, 500, 1, 1]               0\n",
            "          Linear-113                 [-1, 7001]       3,507,501\n",
            "================================================================\n",
            "Total params: 17,995,027\n",
            "Trainable params: 17,995,027\n",
            "Non-trainable params: 0\n",
            "----------------------------------------------------------------\n",
            "Input size (MB): 0.57\n",
            "Forward/backward pass size (MB): 396.86\n",
            "Params size (MB): 68.65\n",
            "Estimated Total Size (MB): 466.08\n",
            "----------------------------------------------------------------\n"
          ]
        }
      ],
      "source": [
        "model = ConvNeXt().to(DEVICE)\n",
        "summary(model, (3, 224, 224))"
      ]
    },
    {
      "cell_type": "markdown",
      "metadata": {
        "id": "KZCn0qHuZRKj"
      },
      "source": [
        "# Loss, Optimizer, and Scheduler Definition"
      ]
    },
    {
      "cell_type": "code",
      "execution_count": null,
      "metadata": {
        "execution": {
          "iopub.execute_input": "2024-02-21T22:36:31.286469Z",
          "iopub.status.busy": "2024-02-21T22:36:31.286015Z",
          "iopub.status.idle": "2024-02-21T22:36:31.297073Z",
          "shell.execute_reply": "2024-02-21T22:36:31.296003Z",
          "shell.execute_reply.started": "2024-02-21T22:36:31.286424Z"
        },
        "id": "UowI9OcUYPjP",
        "trusted": true
      },
      "outputs": [],
      "source": [
        "# --------------------------------------------------- #\n",
        "\n",
        "# Defining Loss function\n",
        "criterion = torch.nn.CrossEntropyLoss(label_smoothing=0.2)\n",
        "# TODO: What loss do you need for a multi class classification problem and would label smoothing be beneficial here?\n",
        "\n",
        "# --------------------------------------------------- #\n",
        "\n",
        "# Defining Optimizer\n",
        "# optimizer = torch.optim.SGD(model.parameters(), lr=config['lr'],  momentum=0.9, weight_decay=1e-4)\n",
        "optimizer = torch.optim.AdamW(model.parameters(), lr=config['lr'], weight_decay=1e-3)\n",
        "# --------------------------------------------------- #\n",
        "\n",
        "# Defining Scheduler\n",
        "scheduler = torch.optim.lr_scheduler.ReduceLROnPlateau(optimizer, 'min', factor=0.75, patience=1, min_lr=1e-4)\n",
        "# TODO: Use a good scheduler such as ReduceLRonPlateau, StepLR, MultistepLR, CosineAnnealing, etc.\n",
        "\n",
        "# --------------------------------------------------- #\n",
        "\n",
        "# Initialising mixed-precision training. # Good news. We've already implemented FP16 (Mixed precision training) for you\n",
        "# It is useful only in the case of compatible GPUs such as T4/V100\n",
        "scaler = torch.cuda.amp.GradScaler()"
      ]
    },
    {
      "cell_type": "markdown",
      "metadata": {
        "id": "ZSh1CZMSi-Wy"
      },
      "source": [
        "# Training and Validation Functions"
      ]
    },
    {
      "cell_type": "markdown",
      "metadata": {
        "id": "lDucyAFwDXE3"
      },
      "source": [
        "## Classification Task"
      ]
    },
    {
      "cell_type": "code",
      "execution_count": null,
      "metadata": {
        "execution": {
          "iopub.execute_input": "2024-02-21T22:12:20.784569Z",
          "iopub.status.busy": "2024-02-21T22:12:20.784182Z",
          "iopub.status.idle": "2024-02-21T22:12:20.795515Z",
          "shell.execute_reply": "2024-02-21T22:12:20.794614Z",
          "shell.execute_reply.started": "2024-02-21T22:12:20.784542Z"
        },
        "id": "bgSw6iJJavBZ",
        "trusted": true
      },
      "outputs": [],
      "source": [
        "def train(model, dataloader, optimizer, criterion):\n",
        "\n",
        "    model.train()\n",
        "\n",
        "    # Progress Bar\n",
        "    batch_bar   = tqdm(total=len(dataloader), dynamic_ncols=True, leave=False, position=0, desc='Train', ncols=5)\n",
        "\n",
        "    num_correct = 0\n",
        "    total_loss  = 0\n",
        "\n",
        "    for i, (images, labels) in enumerate(dataloader):\n",
        "\n",
        "        optimizer.zero_grad() # Zero gradients\n",
        "\n",
        "        images, labels = images.to(DEVICE), labels.to(DEVICE)\n",
        "\n",
        "        with torch.cuda.amp.autocast(): # This implements mixed precision. Thats it!\n",
        "            outputs = model(images)\n",
        "            loss    = criterion(outputs, labels)\n",
        "\n",
        "        # Update no. of correct predictions & loss as we iterate\n",
        "        num_correct     += int((torch.argmax(outputs, axis=1) == labels).sum())\n",
        "        total_loss      += float(loss.item())\n",
        "\n",
        "        # tqdm lets you add some details so you can monitor training as you train.\n",
        "        batch_bar.set_postfix(\n",
        "            acc         = \"{:.04f}%\".format(100 * num_correct / (config['batch_size']*(i + 1))),\n",
        "            loss        = \"{:.04f}\".format(float(total_loss / (i + 1))),\n",
        "            num_correct = num_correct,\n",
        "            lr          = \"{:.04f}\".format(float(optimizer.param_groups[0]['lr']))\n",
        "        )\n",
        "\n",
        "        scaler.scale(loss).backward() # This is a replacement for loss.backward()\n",
        "        scaler.step(optimizer) # This is a replacement for optimizer.step()\n",
        "        scaler.update()\n",
        "\n",
        "        # TODO? Depending on your choice of scheduler,\n",
        "        # You may want to call some schdulers inside the train function. What are these?\n",
        "\n",
        "\n",
        "        batch_bar.update() # Update tqdm bar\n",
        "\n",
        "    batch_bar.close() # You need this to close the tqdm bar\n",
        "    acc         = 100 * num_correct / (config['batch_size']* len(dataloader))\n",
        "    total_loss  = float(total_loss / len(dataloader))\n",
        "\n",
        "    return acc, total_loss"
      ]
    },
    {
      "cell_type": "code",
      "execution_count": null,
      "metadata": {
        "execution": {
          "iopub.execute_input": "2024-02-21T22:12:21.558697Z",
          "iopub.status.busy": "2024-02-21T22:12:21.558331Z",
          "iopub.status.idle": "2024-02-21T22:12:21.568101Z",
          "shell.execute_reply": "2024-02-21T22:12:21.567319Z",
          "shell.execute_reply.started": "2024-02-21T22:12:21.558665Z"
        },
        "id": "m5V2UdnpdEoK",
        "trusted": true
      },
      "outputs": [],
      "source": [
        "def validate(model, dataloader, criterion):\n",
        "\n",
        "    model.eval()\n",
        "    batch_bar = tqdm(total=len(dataloader), dynamic_ncols=True, position=0, leave=False, desc='Val', ncols=5)\n",
        "\n",
        "    num_correct = 0.0\n",
        "    total_loss = 0.0\n",
        "\n",
        "    for i, (images, labels) in enumerate(dataloader):\n",
        "\n",
        "        # Move images to device\n",
        "        images, labels = images.to(DEVICE), labels.to(DEVICE)\n",
        "\n",
        "        # Get model outputs\n",
        "        with torch.inference_mode():\n",
        "            outputs = model(images)\n",
        "            loss = criterion(outputs, labels)\n",
        "\n",
        "        num_correct += int((torch.argmax(outputs, axis=1) == labels).sum())\n",
        "        total_loss += float(loss.item())\n",
        "\n",
        "        batch_bar.set_postfix(\n",
        "            acc=\"{:.04f}%\".format(100 * num_correct / (config['batch_size']*(i + 1))),\n",
        "            loss=\"{:.04f}\".format(float(total_loss / (i + 1))),\n",
        "            num_correct=num_correct)\n",
        "\n",
        "        batch_bar.update()\n",
        "\n",
        "    batch_bar.close()\n",
        "    acc = 100 * num_correct / (config['batch_size']* len(dataloader))\n",
        "    total_loss = float(total_loss / len(dataloader))\n",
        "    return acc, total_loss"
      ]
    },
    {
      "cell_type": "code",
      "execution_count": null,
      "metadata": {
        "execution": {
          "iopub.execute_input": "2024-02-21T22:36:36.895662Z",
          "iopub.status.busy": "2024-02-21T22:36:36.894841Z",
          "iopub.status.idle": "2024-02-21T22:36:37.349016Z",
          "shell.execute_reply": "2024-02-21T22:36:37.347660Z",
          "shell.execute_reply.started": "2024-02-21T22:36:36.895631Z"
        },
        "id": "cmotca6pcLLY",
        "trusted": true
      },
      "outputs": [],
      "source": [
        "gc.collect() # These commands help you when you face CUDA OOM error\n",
        "torch.cuda.empty_cache()"
      ]
    },
    {
      "cell_type": "markdown",
      "metadata": {
        "id": "fGZDXLAaDZ32"
      },
      "source": [
        "## Verification Task"
      ]
    },
    {
      "cell_type": "markdown",
      "metadata": {
        "id": "FoBFFF8-Lpvj"
      },
      "source": [
        "The verification task consists of the following generalized scenario:\n",
        "- You are given X unknown identitites\n",
        "- You are given Y known identitites\n",
        "- Your goal is to match X unknown identities to Y known identities.\n",
        "\n",
        "We have given you a verification dataset, that consists of 960 known identities, and 1080 unknown identities. The 1080 unknown identities are split into dev (360) and test (720). Your goal is to compare the unknown identities to the 1080 known identities and assign an identity to each image from the set of unknown identities. Some unknown identities do not have correspondence in known identities, you also need to identify these and label them with a special label n000000.\n",
        "\n",
        "Your will use/finetune your model trained for classification to compare images between known and unknown identities using a similarity metric and assign labels to the unknown identities.\n",
        "\n",
        "This will judge your model's performance in terms of the quality of embeddings/features it generates on images/faces it has never seen during training for classification."
      ]
    },
    {
      "cell_type": "code",
      "execution_count": null,
      "metadata": {
        "colab": {
          "base_uri": "https://localhost:8080/"
        },
        "execution": {
          "iopub.execute_input": "2024-02-21T22:12:23.912940Z",
          "iopub.status.busy": "2024-02-21T22:12:23.912013Z",
          "iopub.status.idle": "2024-02-21T22:12:52.323229Z",
          "shell.execute_reply": "2024-02-21T22:12:52.322217Z",
          "shell.execute_reply.started": "2024-02-21T22:12:23.912904Z"
        },
        "id": "f9aY5o-suWdn",
        "outputId": "f0434cee-300c-4c50-923e-1a82b71ff75e",
        "trusted": true
      },
      "outputs": [
        {
          "name": "stderr",
          "output_type": "stream",
          "text": [
            "100%|██████████| 360/360 [00:00<00:00, 8512.03it/s]\n",
            "100%|██████████| 720/720 [00:00<00:00, 11398.38it/s]\n",
            "100%|██████████| 960/960 [00:00<00:00, 12551.02it/s]\n"
          ]
        }
      ],
      "source": [
        "# This obtains the list of known identities from the known folder\n",
        "known_regex = \"/content/data/11-785-s24-hw2p2-verification/known/*/*\"\n",
        "known_paths = [i.split('/')[-2] for i in sorted(glob.glob(known_regex))]\n",
        "\n",
        "# Obtain a list of images from unknown folders\n",
        "unknown_dev_regex = \"/content/data/11-785-s24-hw2p2-verification/unknown_dev/*\"\n",
        "unknown_test_regex = \"/content/data/11-785-s24-hw2p2-verification/unknown_test/*\"\n",
        "\n",
        "# We load the images from known and unknown folders\n",
        "unknown_dev_images = [Image.open(p) for p in tqdm(sorted(glob.glob(unknown_dev_regex)))]\n",
        "unknown_test_images = [Image.open(p) for p in tqdm(sorted(glob.glob(unknown_test_regex)))]\n",
        "known_images = [Image.open(p) for p in tqdm(sorted(glob.glob(known_regex)))]\n",
        "\n",
        "# Why do you need only ToTensor() here?\n",
        "transforms = torchvision.transforms.Compose([\n",
        "    torchvision.transforms.ToTensor(),\n",
        "    torchvision.transforms.Normalize(mean=mean, std=std),\n",
        "])\n",
        "\n",
        "unknown_dev_images = torch.stack([transforms(x) for x in unknown_dev_images])\n",
        "unknown_test_images = torch.stack([transforms(x) for x in unknown_test_images])\n",
        "known_images  = torch.stack([transforms(y) for y in known_images ])\n",
        "#Print your shapes here to understand what we have done\n",
        "\n",
        "# You can use other similarity metrics like Euclidean Distance if you wish\n",
        "similarity_metric = torch.nn.CosineSimilarity(dim= 1, eps= 1e-6)"
      ]
    },
    {
      "cell_type": "code",
      "execution_count": null,
      "metadata": {
        "execution": {
          "iopub.execute_input": "2024-02-21T22:40:51.889252Z",
          "iopub.status.busy": "2024-02-21T22:40:51.888882Z",
          "iopub.status.idle": "2024-02-21T22:40:51.905167Z",
          "shell.execute_reply": "2024-02-21T22:40:51.904003Z",
          "shell.execute_reply.started": "2024-02-21T22:40:51.889221Z"
        },
        "id": "rk1LS0BRxFHM",
        "trusted": true
      },
      "outputs": [],
      "source": [
        "def eval_verification(unknown_images, known_images, model, similarity, batch_size= config['batch_size'], mode='val'):\n",
        "\n",
        "    unknown_feats, known_feats = [], []\n",
        "\n",
        "    batch_bar = tqdm(total=len(unknown_images)//batch_size, dynamic_ncols=True, position=0, leave=False, desc=mode)\n",
        "    model.eval()\n",
        "\n",
        "    # We load the images as batches for memory optimization and avoiding CUDA OOM errors\n",
        "    for i in range(0, unknown_images.shape[0], batch_size):\n",
        "        unknown_batch = unknown_images[i:i+batch_size] # Slice a given portion upto batch_size\n",
        "\n",
        "        with torch.no_grad():\n",
        "            unknown_feat = model(unknown_batch.float().to(DEVICE), return_feats=True) #Get features from model\n",
        "        unknown_feats.append(unknown_feat)\n",
        "        batch_bar.update()\n",
        "\n",
        "    batch_bar.close()\n",
        "\n",
        "    batch_bar = tqdm(total=len(known_images)//batch_size, dynamic_ncols=True, position=0, leave=False, desc=mode)\n",
        "\n",
        "    for i in range(0, known_images.shape[0], batch_size):\n",
        "        known_batch = known_images[i:i+batch_size]\n",
        "        with torch.no_grad():\n",
        "              known_feat = model(known_batch.float().to(DEVICE), return_feats=True)\n",
        "\n",
        "        known_feats.append(known_feat)\n",
        "        batch_bar.update()\n",
        "\n",
        "    batch_bar.close()\n",
        "\n",
        "    # Concatenate all the batches\n",
        "    unknown_feats = torch.cat(unknown_feats, dim=0)\n",
        "    known_feats = torch.cat(known_feats, dim=0)\n",
        "\n",
        "    similarity_values = torch.stack([similarity(unknown_feats, known_feature) for known_feature in known_feats])\n",
        "    # Print the inner list comprehension in a separate cell - what is really happening?\n",
        "\n",
        "    max_similarity_values, predictions = similarity_values.max(0) #Why are we doing an max here, where are the return values?\n",
        "    max_similarity_values, predictions = max_similarity_values.cpu().numpy(), predictions.cpu().numpy()\n",
        "\n",
        "\n",
        "    # Note that in unknown identities, there are identities without correspondence in known identities.\n",
        "    # Therefore, these identities should be not similar to all the known identities, i.e. max similarity will be below a certain\n",
        "    # threshold compared with those identities with correspondence.\n",
        "\n",
        "    # In early submission, you can ignore identities without correspondence, simply taking identity with max similarity value\n",
        "    # pred_id_strings = [known_paths[i] for i in predictions] # Map argmax indices to identity strings\n",
        "\n",
        "    # After early submission, remove the previous line and uncomment the following code\n",
        "\n",
        "    threshold = 0.275 # Choose a proper threshold\n",
        "    NO_CORRESPONDENCE_LABEL = 'n000000'\n",
        "    pred_id_strings = []\n",
        "    for idx, prediction in enumerate(predictions):\n",
        "        if max_similarity_values[idx] < threshold: # why < ? Thank about what is your similarity metric\n",
        "            pred_id_strings.append(NO_CORRESPONDENCE_LABEL)\n",
        "        else:\n",
        "            pred_id_strings.append(known_paths[prediction])\n",
        "\n",
        "    if mode == 'val':\n",
        "      true_ids = pd.read_csv('/content/data/11-785-s24-hw2p2-verification/verification_dev.csv')['label'].tolist()\n",
        "      accuracy = 100 * accuracy_score(pred_id_strings, true_ids)\n",
        "      #print(\"Verification Accuracy = {}\".format(accuracy))\n",
        "      return accuracy, pred_id_strings\n",
        "\n",
        "    elif mode == 'test':\n",
        "      return pred_id_strings\n"
      ]
    },
    {
      "cell_type": "code",
      "execution_count": null,
      "metadata": {
        "execution": {
          "iopub.execute_input": "2024-02-21T22:12:52.339446Z",
          "iopub.status.busy": "2024-02-21T22:12:52.339182Z",
          "iopub.status.idle": "2024-02-21T22:12:52.609287Z",
          "shell.execute_reply": "2024-02-21T22:12:52.608072Z",
          "shell.execute_reply.started": "2024-02-21T22:12:52.339423Z"
        },
        "id": "Sobd9DrAcDSf",
        "trusted": true
      },
      "outputs": [],
      "source": [
        "gc.collect() # These commands help you when you face CUDA OOM error\n",
        "torch.cuda.empty_cache()"
      ]
    },
    {
      "cell_type": "markdown",
      "metadata": {
        "id": "2mBgKGkXLrdJ"
      },
      "source": [
        "# Wandb"
      ]
    },
    {
      "cell_type": "code",
      "execution_count": null,
      "metadata": {
        "colab": {
          "base_uri": "https://localhost:8080/"
        },
        "execution": {
          "iopub.execute_input": "2024-02-21T22:12:52.611947Z",
          "iopub.status.busy": "2024-02-21T22:12:52.611561Z",
          "iopub.status.idle": "2024-02-21T22:12:54.833450Z",
          "shell.execute_reply": "2024-02-21T22:12:54.832591Z",
          "shell.execute_reply.started": "2024-02-21T22:12:52.611910Z"
        },
        "id": "Ix62_BkaLr_D",
        "outputId": "afe7a011-ef5a-4891-d158-edf4b3593484",
        "trusted": true
      },
      "outputs": [],
      "source": [
        "wandb.login(key=\"\") # API Key is in your wandb account, under settings (wandb.ai/settings)"
      ]
    },
    {
      "cell_type": "code",
      "execution_count": null,
      "metadata": {
        "colab": {
          "base_uri": "https://localhost:8080/",
          "height": 121
        },
        "execution": {
          "iopub.execute_input": "2024-02-21T22:12:59.875841Z",
          "iopub.status.busy": "2024-02-21T22:12:59.874735Z",
          "iopub.status.idle": "2024-02-21T22:13:32.313760Z",
          "shell.execute_reply": "2024-02-21T22:13:32.312520Z",
          "shell.execute_reply.started": "2024-02-21T22:12:59.875803Z"
        },
        "id": "VG0vmsmbRYEi",
        "outputId": "ccaa01f3-6d43-4e0e-9f1b-92cdc55b86a7",
        "trusted": true
      },
      "outputs": [],
      "source": [
        "# Create your wandb run\n",
        "run = wandb.init(\n",
        "    name = \"akameswa-convnext-adamw-reducelor-gcp\", ## Wandb creates random run names if you skip this field\n",
        "    reinit = True, ### Allows reinitalizing runs when you re-run this cell\n",
        "    # id = \"c1ofyvyn\", ### Insert specific run id here if you want to resume a previous run\n",
        "    # resume = \"must\", ### You need this to resume previous runs, but comment out reinit = True when using this\n",
        "    entity=\"tekkotsu\",\n",
        "    project = \"hw2p2\", ### Project should be created in your wandb account\n",
        "    config = config ### Wandb Config for your run\n",
        ")"
      ]
    },
    {
      "cell_type": "markdown",
      "metadata": {
        "id": "SQkRw1FvLqYe"
      },
      "source": [
        "# Experiments"
      ]
    },
    {
      "cell_type": "code",
      "execution_count": null,
      "metadata": {
        "colab": {
          "base_uri": "https://localhost:8080/"
        },
        "id": "Ue9rFBCMsWlv",
        "outputId": "cb249eb3-40c1-4250-fb1d-c00a1f611de5"
      },
      "outputs": [],
      "source": [
        "best_class_acc      = 0.0\n",
        "best_ver_acc        = 0.0\n",
        "\n",
        "for epoch in range(config['epochs']):\n",
        "\n",
        "    # print(\"\\nEpoch {}/{}\".format(epoch+1, config['epochs']))\n",
        "\n",
        "    curr_lr = float(optimizer.param_groups[0]['lr'])\n",
        "\n",
        "    train_acc, train_loss = train(model, train_loader, optimizer, criterion) # TODO: What function would you want implement here\n",
        "\n",
        "    print(\"\\nEpoch {}/{}: \\nTrain Acc (Classification) {:.04f}%\\t Train Loss (Classification) {:.04f}\\t Learning Rate {:.04f}\".format(\n",
        "        epoch + 1, config['epochs'], train_acc, train_loss, curr_lr))\n",
        "\n",
        "    val_acc, val_loss = validate(model, valid_loader, criterion) # TODO: What function would you want implement here\n",
        "    print(\"Val Acc (Classification) {:.04f}%\\t Val Loss (Classification) {:.04f}\".format(val_acc, val_loss))\n",
        "\n",
        "    ver_acc, pred_id_strings = eval_verification(unknown_dev_images, known_images,\n",
        "                                                 model, similarity_metric, config['batch_size'], mode='val')\n",
        "\n",
        "    print(\"Val Acc (Verification) {:.04f}%\\t \".format(ver_acc))\n",
        "\n",
        "    wandb.log({\"train_classification_acc\": train_acc,\n",
        "               \"train_classification_loss\":train_loss,\n",
        "               \"val_classification_acc\": val_acc,\n",
        "               \"val_classification_loss\": val_loss,\n",
        "               \"val_verification_acc\": ver_acc,\n",
        "               \"learning_rate\": curr_lr})\n",
        "\n",
        "    # If you are using a scheduler in your train function within your iteration loop,\n",
        "    # How will you step your scheduler ?\n",
        "    scheduler.step(val_loss)\n",
        "\n",
        "    if val_acc >= best_class_acc:\n",
        "        best_valid_acc = val_acc\n",
        "        torch.save({'model_state_dict':model.state_dict(),\n",
        "                    'optimizer_state_dict':optimizer.state_dict(),\n",
        "                    'scheduler_state_dict':scheduler.state_dict(),\n",
        "                    'val_acc': val_acc,\n",
        "                    'epoch': epoch}, './checkpoint_classification.pth')\n",
        "        wandb.save('checkpoint_verification.pth')\n",
        "        print(\"Saved best classification model\")\n",
        "\n",
        "    if ver_acc >= best_ver_acc:\n",
        "      best_ver_acc = ver_acc\n",
        "      torch.save({'model_state_dict':model.state_dict(),\n",
        "                  'optimizer_state_dict':optimizer.state_dict(),\n",
        "                  'scheduler_state_dict':scheduler.state_dict(),\n",
        "                  'val_acc': ver_acc,\n",
        "                  'epoch': epoch}, './checkpoint_verification.pth')\n",
        "      wandb.save('checkpoint_verification.pth')\n",
        "      print(\"Saved verification model\")\n",
        "\n",
        "### Finish your wandb run\n",
        "# run.finish()"
      ]
    },
    {
      "cell_type": "markdown",
      "metadata": {
        "id": "UpgCHImRkYQW"
      },
      "source": [
        "# Testing and Kaggle Submission"
      ]
    },
    {
      "cell_type": "code",
      "execution_count": 32,
      "metadata": {
        "execution": {
          "iopub.execute_input": "2024-02-19T21:51:46.490915Z",
          "iopub.status.busy": "2024-02-19T21:51:46.490543Z",
          "iopub.status.idle": "2024-02-19T21:51:46.500342Z",
          "shell.execute_reply": "2024-02-19T21:51:46.499078Z",
          "shell.execute_reply.started": "2024-02-19T21:51:46.490883Z"
        },
        "id": "U2WQEUjXkWvo",
        "trusted": true
      },
      "outputs": [],
      "source": [
        "def test(model,dataloader): # TODO: Run to finish predicting on the test set.\n",
        "\n",
        "  model.eval()\n",
        "  batch_bar = tqdm(total=len(dataloader), dynamic_ncols=True, position=0, leave=False, desc='Test')\n",
        "  test_results = []\n",
        "\n",
        "  for i, (images) in enumerate(dataloader):\n",
        "\n",
        "      images = images.to(DEVICE)\n",
        "\n",
        "      with torch.inference_mode():\n",
        "        outputs = model(images)\n",
        "\n",
        "      outputs = torch.argmax(outputs, axis=1).detach().cpu().numpy().tolist()\n",
        "      test_results.extend(outputs)\n",
        "\n",
        "      batch_bar.update()\n",
        "\n",
        "  batch_bar.close()\n",
        "  return test_results"
      ]
    },
    {
      "cell_type": "code",
      "execution_count": 33,
      "metadata": {
        "colab": {
          "base_uri": "https://localhost:8080/"
        },
        "execution": {
          "iopub.execute_input": "2024-02-19T21:51:48.663837Z",
          "iopub.status.busy": "2024-02-19T21:51:48.662945Z",
          "iopub.status.idle": "2024-02-19T21:54:03.862941Z",
          "shell.execute_reply": "2024-02-19T21:54:03.861627Z",
          "shell.execute_reply.started": "2024-02-19T21:51:48.663803Z"
        },
        "id": "K7R1lcCAzULc",
        "outputId": "159702b5-352d-482c-c25c-6009d1672b08",
        "trusted": true
      },
      "outputs": [
        {
          "name": "stderr",
          "output_type": "stream",
          "text": []
        }
      ],
      "source": [
        "test_results = test(model, test_loader)"
      ]
    },
    {
      "cell_type": "code",
      "execution_count": 34,
      "metadata": {
        "colab": {
          "base_uri": "https://localhost:8080/"
        },
        "execution": {
          "iopub.execute_input": "2024-02-19T21:54:03.865472Z",
          "iopub.status.busy": "2024-02-19T21:54:03.865071Z",
          "iopub.status.idle": "2024-02-19T21:54:08.824929Z",
          "shell.execute_reply": "2024-02-19T21:54:08.823781Z",
          "shell.execute_reply.started": "2024-02-19T21:54:03.865432Z"
        },
        "id": "GmejXfRh5YRS",
        "outputId": "141bb99b-04fd-47fb-d2cc-db0a148b6c9d",
        "trusted": true
      },
      "outputs": [
        {
          "name": "stderr",
          "output_type": "stream",
          "text": []
        }
      ],
      "source": [
        "pred_id_strings = eval_verification(unknown_test_images, known_images,\n",
        "                                                 model, similarity_metric, config['batch_size'], mode='test')"
      ]
    },
    {
      "cell_type": "code",
      "execution_count": 35,
      "metadata": {
        "execution": {
          "iopub.execute_input": "2024-02-19T21:54:08.826645Z",
          "iopub.status.busy": "2024-02-19T21:54:08.826295Z",
          "iopub.status.idle": "2024-02-19T21:54:08.907694Z",
          "shell.execute_reply": "2024-02-19T21:54:08.906705Z",
          "shell.execute_reply.started": "2024-02-19T21:54:08.826617Z"
        },
        "id": "Vob9a2-HkW_V",
        "trusted": true
      },
      "outputs": [],
      "source": [
        "# TODO: Run to write the results in the files and submit to Kaggle\n",
        "# You only have 10 Kaggle submissions per day\n",
        "\n",
        "with open(\"classification_early_submission.csv\", \"w+\") as f:\n",
        "    f.write(\"id,label\\n\")\n",
        "    for i in range(len(test_dataset)):\n",
        "        f.write(\"{},{}\\n\".format(str(i).zfill(6) + \".jpg\", test_results[i]))\n",
        "\n",
        "with open(\"verification_early_submission.csv\", \"w+\") as f:\n",
        "    f.write(\"id,label\\n\")\n",
        "    for i in range(len(pred_id_strings)):\n",
        "        f.write(\"{},{}\\n\".format(i, pred_id_strings[i]))"
      ]
    },
    {
      "cell_type": "code",
      "execution_count": 36,
      "metadata": {
        "colab": {
          "base_uri": "https://localhost:8080/"
        },
        "execution": {
          "iopub.execute_input": "2024-02-19T21:55:04.815594Z",
          "iopub.status.busy": "2024-02-19T21:55:04.815148Z",
          "iopub.status.idle": "2024-02-19T21:55:11.636844Z",
          "shell.execute_reply": "2024-02-19T21:55:11.635715Z",
          "shell.execute_reply.started": "2024-02-19T21:55:04.815558Z"
        },
        "id": "6aXd-fzh2h3x",
        "outputId": "e7e26134-2628-4a64-fc2f-62f1d2930f3b",
        "trusted": true
      },
      "outputs": [
        {
          "name": "stdout",
          "output_type": "stream",
          "text": [
            "Warning: Looks like you're using an outdated API Version, please consider updating (server 1.6.7 / client 1.5.8)\n",
            "100% 542k/542k [00:01<00:00, 312kB/s]\n",
            "Successfully submitted to 11785 HW2P2 - Face Recognition Warning: Looks like you're using an outdated API Version, please consider updating (server 1.6.7 / client 1.5.8)\n",
            "100% 8.34k/8.34k [00:01<00:00, 6.93kB/s]\n",
            "Successfully submitted to 11785 HW2P2 - Face Verification"
          ]
        }
      ],
      "source": [
        "!kaggle competitions submit -c 11785-hw2p2-face-recognition -f \"classification_early_submission.csv\" -m \"high\"\n",
        "!kaggle competitions submit -c 11785-hw2p2-face-verification -f \"verification_early_submission.csv\" -m \"high\""
      ]
    }
  ],
  "metadata": {
    "accelerator": "GPU",
    "colab": {
      "machine_shape": "hm",
      "provenance": []
    },
    "kaggle": {
      "accelerator": "nvidiaTeslaT4",
      "dataSources": [
        {
          "databundleVersionId": 7436847,
          "sourceId": 67017,
          "sourceType": "competition"
        },
        {
          "databundleVersionId": 7436965,
          "sourceId": 67023,
          "sourceType": "competition"
        }
      ],
      "dockerImageVersionId": 30648,
      "isGpuEnabled": true,
      "isInternetEnabled": true,
      "language": "python",
      "sourceType": "notebook"
    },
    "kernelspec": {
      "display_name": "Python 3",
      "language": "python",
      "name": "python3"
    },
    "language_info": {
      "codemirror_mode": {
        "name": "ipython",
        "version": 3
      },
      "file_extension": ".py",
      "mimetype": "text/x-python",
      "name": "python",
      "nbconvert_exporter": "python",
      "pygments_lexer": "ipython3",
      "version": "3.10.13"
    },
    "vscode": {
      "interpreter": {
        "hash": "31f2aee4e71d21fbe5cf8b01ff0e069b9275f58929596ceb00d14d90e3e16cd6"
      }
    }
  },
  "nbformat": 4,
  "nbformat_minor": 0
}
